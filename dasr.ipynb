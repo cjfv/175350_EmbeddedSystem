{
 "cells": [
  {
   "cell_type": "code",
   "execution_count": 1,
   "id": "0bb8aebd",
   "metadata": {
    "execution": {
     "iopub.execute_input": "2022-03-02T09:25:55.410669Z",
     "iopub.status.busy": "2022-03-02T09:25:55.409176Z",
     "iopub.status.idle": "2022-03-02T09:25:58.027483Z",
     "shell.execute_reply": "2022-03-02T09:25:58.026842Z",
     "shell.execute_reply.started": "2022-03-02T08:13:05.577874Z"
    },
    "papermill": {
     "duration": 2.62713,
     "end_time": "2022-03-02T09:25:58.027635",
     "exception": false,
     "start_time": "2022-03-02T09:25:55.400505",
     "status": "completed"
    },
    "tags": []
   },
   "outputs": [],
   "source": [
    "!cp -r ../input/dasr01/DASR-main/*  ."
   ]
  },
  {
   "cell_type": "code",
   "execution_count": 2,
   "id": "b2086403",
   "metadata": {
    "execution": {
     "iopub.execute_input": "2022-03-02T09:25:58.041637Z",
     "iopub.status.busy": "2022-03-02T09:25:58.039438Z",
     "iopub.status.idle": "2022-03-02T09:27:03.669916Z",
     "shell.execute_reply": "2022-03-02T09:27:03.669377Z",
     "shell.execute_reply.started": "2022-03-02T09:23:18.703069Z"
    },
    "papermill": {
     "duration": 65.636881,
     "end_time": "2022-03-02T09:27:03.670039",
     "exception": false,
     "start_time": "2022-03-02T09:25:58.033158",
     "status": "completed"
    },
    "tags": []
   },
   "outputs": [
    {
     "name": "stdout",
     "output_type": "stream",
     "text": [
      "Collecting torch==1.1.0\r\n",
      "  Downloading torch-1.1.0-cp37-cp37m-manylinux1_x86_64.whl (676.9 MB)\r\n",
      "     |████████████████████████████████| 676.9 MB 2.7 kB/s             \r\n",
      "\u001b[?25hRequirement already satisfied: numpy in /opt/conda/lib/python3.7/site-packages (from torch==1.1.0) (1.20.3)\r\n",
      "Installing collected packages: torch\r\n",
      "  Attempting uninstall: torch\r\n",
      "    Found existing installation: torch 1.9.1\r\n",
      "    Uninstalling torch-1.9.1:\r\n",
      "      Successfully uninstalled torch-1.9.1\r\n",
      "\u001b[31mERROR: pip's dependency resolver does not currently take into account all the packages that are installed. This behaviour is the source of the following dependency conflicts.\r\n",
      "torchmetrics 0.6.2 requires torch>=1.3.1, but you have torch 1.1.0 which is incompatible.\r\n",
      "pytorch-lightning 1.5.9 requires torch>=1.7.*, but you have torch 1.1.0 which is incompatible.\r\n",
      "pytorch-ignite 0.4.8 requires torch<2,>=1.3, but you have torch 1.1.0 which is incompatible.\r\n",
      "kornia 0.5.8 requires torch>=1.6.0, but you have torch 1.1.0 which is incompatible.\r\n",
      "fastai 2.5.3 requires torch<1.11,>=1.7.0, but you have torch 1.1.0 which is incompatible.\r\n",
      "fairscale 0.4.5 requires torch>=1.8.0, but you have torch 1.1.0 which is incompatible.\r\n",
      "catalyst 21.12 requires torch>=1.3.0, but you have torch 1.1.0 which is incompatible.\r\n",
      "allennlp 2.9.0 requires torch<1.11.0,>=1.6.0, but you have torch 1.1.0 which is incompatible.\u001b[0m\r\n",
      "Successfully installed torch-1.1.0\r\n",
      "\u001b[33mWARNING: Running pip as the 'root' user can result in broken permissions and conflicting behaviour with the system package manager. It is recommended to use a virtual environment instead: https://pip.pypa.io/warnings/venv\u001b[0m\r\n",
      "Note: you may need to restart the kernel to use updated packages.\n"
     ]
    }
   ],
   "source": [
    "pip install torch==1.1.0"
   ]
  },
  {
   "cell_type": "code",
   "execution_count": 3,
   "id": "0953de90",
   "metadata": {
    "execution": {
     "iopub.execute_input": "2022-03-02T09:27:04.249550Z",
     "iopub.status.busy": "2022-03-02T09:27:04.248740Z",
     "iopub.status.idle": "2022-03-02T09:27:07.399305Z",
     "shell.execute_reply": "2022-03-02T09:27:07.398744Z",
     "shell.execute_reply.started": "2022-03-02T08:13:55.893622Z"
    },
    "papermill": {
     "duration": 3.442354,
     "end_time": "2022-03-02T09:27:07.399451",
     "exception": false,
     "start_time": "2022-03-02T09:27:03.957097",
     "status": "completed"
    },
    "tags": []
   },
   "outputs": [
    {
     "name": "stdout",
     "output_type": "stream",
     "text": [
      "Traceback (most recent call last):\r\n",
      "  File \"main.py\", line 14, in <module>\r\n",
      "    loader = data.Data(args)\r\n",
      "  File \"/kaggle/working/data/__init__.py\", line 9, in __init__\r\n",
      "    trainset = getattr(module_train, args.data_train)(args)             ## load the dataset, args.data_train is the  dataset name\r\n",
      "  File \"/kaggle/working/data/df2k.py\", line 7, in __init__\r\n",
      "    super(DF2K, self).__init__(args, name=name, train=train, benchmark=benchmark)\r\n",
      "  File \"/kaggle/working/data/multiscalesrdata.py\", line 36, in __init__\r\n",
      "    os.makedirs(path_bin, exist_ok=True)\r\n",
      "  File \"/opt/conda/lib/python3.7/os.py\", line 213, in makedirs\r\n",
      "    makedirs(head, exist_ok=exist_ok)\r\n",
      "  File \"/opt/conda/lib/python3.7/os.py\", line 223, in makedirs\r\n",
      "    mkdir(name, mode)\r\n",
      "OSError: [Errno 30] Read-only file system: '../input/image-project/ground truth train/DF2K'\r\n"
     ]
    }
   ],
   "source": [
    "!python main.py --dir_data='../input/image-project/ground truth train' \\\n",
    "               --model='blindsr' \\\n",
    "               --scale='4' \\\n",
    "               --blur_type='aniso_gaussian' \\\n",
    "               --noise=25.0 \\\n",
    "               --lambda_min=0.2 \\\n",
    "               --lambda_max=4.0"
   ]
  }
 ],
 "metadata": {
  "kernelspec": {
   "display_name": "Python 3",
   "language": "python",
   "name": "python3"
  },
  "language_info": {
   "codemirror_mode": {
    "name": "ipython",
    "version": 3
   },
   "file_extension": ".py",
   "mimetype": "text/x-python",
   "name": "python",
   "nbconvert_exporter": "python",
   "pygments_lexer": "ipython3",
   "version": "3.7.12"
  },
  "papermill": {
   "default_parameters": {},
   "duration": 80.913851,
   "end_time": "2022-03-02T09:27:08.094223",
   "environment_variables": {},
   "exception": null,
   "input_path": "__notebook__.ipynb",
   "output_path": "__notebook__.ipynb",
   "parameters": {},
   "start_time": "2022-03-02T09:25:47.180372",
   "version": "2.3.3"
  }
 },
 "nbformat": 4,
 "nbformat_minor": 5
}
