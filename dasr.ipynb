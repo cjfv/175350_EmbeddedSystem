{
 "cells": [
  {
   "cell_type": "code",
   "execution_count": 1,
   "id": "790fa63c",
   "metadata": {
    "execution": {
     "iopub.execute_input": "2022-03-02T09:48:34.216392Z",
     "iopub.status.busy": "2022-03-02T09:48:34.215577Z",
     "iopub.status.idle": "2022-03-02T09:49:08.790184Z",
     "shell.execute_reply": "2022-03-02T09:49:08.790651Z",
     "shell.execute_reply.started": "2022-03-02T09:47:18.476713Z"
    },
    "papermill": {
     "duration": 34.593391,
     "end_time": "2022-03-02T09:49:08.790954",
     "exception": false,
     "start_time": "2022-03-02T09:48:34.197563",
     "status": "completed"
    },
    "tags": []
   },
   "outputs": [
    {
     "name": "stdout",
     "output_type": "stream",
     "text": [
      "/kaggle/working\r\n"
     ]
    }
   ],
   "source": [
    "!cp -r ../input/dasr01/DASR-main/*  .\n",
    "!pwd\n",
    "!mkdir -p mydata/DF2K/HR/\n",
    "!cp -r ../input/image-project/ground\\ truth\\ train mydata/DF2K/HR/"
   ]
  },
  {
   "cell_type": "code",
   "execution_count": 2,
   "id": "e38710b8",
   "metadata": {
    "execution": {
     "iopub.execute_input": "2022-03-02T09:49:09.529302Z",
     "iopub.status.busy": "2022-03-02T09:49:09.524309Z",
     "iopub.status.idle": "2022-03-02T09:50:05.890335Z",
     "shell.execute_reply": "2022-03-02T09:50:05.892797Z",
     "shell.execute_reply.started": "2022-03-02T09:39:22.755196Z"
    },
    "papermill": {
     "duration": 57.094973,
     "end_time": "2022-03-02T09:50:05.893017",
     "exception": false,
     "start_time": "2022-03-02T09:49:08.798044",
     "status": "completed"
    },
    "tags": []
   },
   "outputs": [
    {
     "name": "stdout",
     "output_type": "stream",
     "text": [
      "Collecting torch==1.1.0\r\n",
      "  Downloading torch-1.1.0-cp37-cp37m-manylinux1_x86_64.whl (676.9 MB)\r\n",
      "     |████████████████████████████████| 676.9 MB 2.6 kB/s             \r\n",
      "\u001b[?25hRequirement already satisfied: numpy in /opt/conda/lib/python3.7/site-packages (from torch==1.1.0) (1.20.3)\r\n",
      "Installing collected packages: torch\r\n",
      "  Attempting uninstall: torch\r\n",
      "    Found existing installation: torch 1.9.1\r\n",
      "    Uninstalling torch-1.9.1:\r\n",
      "      Successfully uninstalled torch-1.9.1\r\n",
      "\u001b[31mERROR: pip's dependency resolver does not currently take into account all the packages that are installed. This behaviour is the source of the following dependency conflicts.\r\n",
      "torchmetrics 0.6.2 requires torch>=1.3.1, but you have torch 1.1.0 which is incompatible.\r\n",
      "pytorch-lightning 1.5.9 requires torch>=1.7.*, but you have torch 1.1.0 which is incompatible.\r\n",
      "pytorch-ignite 0.4.8 requires torch<2,>=1.3, but you have torch 1.1.0 which is incompatible.\r\n",
      "kornia 0.5.8 requires torch>=1.6.0, but you have torch 1.1.0 which is incompatible.\r\n",
      "fastai 2.5.3 requires torch<1.11,>=1.7.0, but you have torch 1.1.0 which is incompatible.\r\n",
      "fairscale 0.4.5 requires torch>=1.8.0, but you have torch 1.1.0 which is incompatible.\r\n",
      "catalyst 21.12 requires torch>=1.3.0, but you have torch 1.1.0 which is incompatible.\r\n",
      "allennlp 2.9.0 requires torch<1.11.0,>=1.6.0, but you have torch 1.1.0 which is incompatible.\u001b[0m\r\n",
      "Successfully installed torch-1.1.0\r\n",
      "\u001b[33mWARNING: Running pip as the 'root' user can result in broken permissions and conflicting behaviour with the system package manager. It is recommended to use a virtual environment instead: https://pip.pypa.io/warnings/venv\u001b[0m\r\n",
      "Note: you may need to restart the kernel to use updated packages.\n"
     ]
    }
   ],
   "source": [
    "pip install torch==1.1.0"
   ]
  },
  {
   "cell_type": "code",
   "execution_count": 3,
   "id": "77dbddae",
   "metadata": {
    "execution": {
     "iopub.execute_input": "2022-03-02T09:50:06.581650Z",
     "iopub.status.busy": "2022-03-02T09:50:06.580814Z",
     "iopub.status.idle": "2022-03-02T09:50:06.875761Z",
     "shell.execute_reply": "2022-03-02T09:50:06.876236Z",
     "shell.execute_reply.started": "2022-03-02T09:40:49.331189Z"
    },
    "papermill": {
     "duration": 0.551921,
     "end_time": "2022-03-02T09:50:06.876386",
     "exception": false,
     "start_time": "2022-03-02T09:50:06.324465",
     "status": "completed"
    },
    "tags": []
   },
   "outputs": [
    {
     "name": "stdout",
     "output_type": "stream",
     "text": [
      "1.1.0\n"
     ]
    }
   ],
   "source": [
    "import torch\n",
    "print(torch.__version__)"
   ]
  },
  {
   "cell_type": "code",
   "execution_count": 4,
   "id": "42aa99cf",
   "metadata": {
    "execution": {
     "iopub.execute_input": "2022-03-02T09:50:07.380556Z",
     "iopub.status.busy": "2022-03-02T09:50:07.375843Z",
     "iopub.status.idle": "2022-03-02T09:50:10.276961Z",
     "shell.execute_reply": "2022-03-02T09:50:10.276443Z",
     "shell.execute_reply.started": "2022-03-02T08:13:55.893622Z"
    },
    "papermill": {
     "duration": 3.15243,
     "end_time": "2022-03-02T09:50:10.277106",
     "exception": false,
     "start_time": "2022-03-02T09:50:07.124676",
     "status": "completed"
    },
    "tags": []
   },
   "outputs": [
    {
     "name": "stdout",
     "output_type": "stream",
     "text": [
      "0\r\n",
      "Traceback (most recent call last):\r\n",
      "  File \"main.py\", line 14, in <module>\r\n",
      "    loader = data.Data(args)\r\n",
      "  File \"/kaggle/working/data/__init__.py\", line 9, in __init__\r\n",
      "    trainset = getattr(module_train, args.data_train)(args)             ## load the dataset, args.data_train is the  dataset name\r\n",
      "  File \"/kaggle/working/data/df2k.py\", line 7, in __init__\r\n",
      "    super(DF2K, self).__init__(args, name=name, train=train, benchmark=benchmark)\r\n",
      "  File \"/kaggle/working/data/multiscalesrdata.py\", line 65, in __init__\r\n",
      "    self.repeat = args.test_every // (len(self.images_hr) // args.batch_size)\r\n",
      "ZeroDivisionError: integer division or modulo by zero\r\n"
     ]
    }
   ],
   "source": [
    "!python main.py --dir_data='./mydata' \\\n",
    "               --model='blindsr' \\\n",
    "               --scale='4' \\\n",
    "               --blur_type='aniso_gaussian' \\\n",
    "               --noise=25.0 \\\n",
    "               --lambda_min=0.2 \\\n",
    "               --lambda_max=4.0"
   ]
  }
 ],
 "metadata": {
  "kernelspec": {
   "display_name": "Python 3",
   "language": "python",
   "name": "python3"
  },
  "language_info": {
   "codemirror_mode": {
    "name": "ipython",
    "version": 3
   },
   "file_extension": ".py",
   "mimetype": "text/x-python",
   "name": "python",
   "nbconvert_exporter": "python",
   "pygments_lexer": "ipython3",
   "version": "3.7.12"
  },
  "papermill": {
   "default_parameters": {},
   "duration": 104.914026,
   "end_time": "2022-03-02T09:50:11.239625",
   "environment_variables": {},
   "exception": null,
   "input_path": "__notebook__.ipynb",
   "output_path": "__notebook__.ipynb",
   "parameters": {},
   "start_time": "2022-03-02T09:48:26.325599",
   "version": "2.3.3"
  }
 },
 "nbformat": 4,
 "nbformat_minor": 5
}
