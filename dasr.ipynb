{
 "cells": [
  {
   "cell_type": "code",
   "execution_count": 1,
   "id": "9ee1ca67",
   "metadata": {
    "execution": {
     "iopub.execute_input": "2022-03-02T09:04:05.474145Z",
     "iopub.status.busy": "2022-03-02T09:04:05.472669Z",
     "iopub.status.idle": "2022-03-02T09:04:08.266783Z",
     "shell.execute_reply": "2022-03-02T09:04:08.265229Z",
     "shell.execute_reply.started": "2022-03-02T08:13:05.577874Z"
    },
    "papermill": {
     "duration": 2.802804,
     "end_time": "2022-03-02T09:04:08.266988",
     "exception": false,
     "start_time": "2022-03-02T09:04:05.464184",
     "status": "completed"
    },
    "tags": []
   },
   "outputs": [],
   "source": [
    "!cp -r ../input/dasr01/DASR-main/*  ."
   ]
  },
  {
   "cell_type": "code",
   "execution_count": 2,
   "id": "eb154594",
   "metadata": {
    "execution": {
     "iopub.execute_input": "2022-03-02T09:04:08.285975Z",
     "iopub.status.busy": "2022-03-02T09:04:08.285214Z",
     "iopub.status.idle": "2022-03-02T09:04:15.312748Z",
     "shell.execute_reply": "2022-03-02T09:04:15.311880Z",
     "shell.execute_reply.started": "2022-03-02T08:13:55.893622Z"
    },
    "papermill": {
     "duration": 7.040773,
     "end_time": "2022-03-02T09:04:15.312883",
     "exception": false,
     "start_time": "2022-03-02T09:04:08.272110",
     "status": "completed"
    },
    "tags": []
   },
   "outputs": [
    {
     "name": "stdout",
     "output_type": "stream",
     "text": [
      "Traceback (most recent call last):\r\n",
      "  File \"quick_test.py\", line 57, in <module>\r\n",
      "    main()\r\n",
      "  File \"quick_test.py\", line 45, in main\r\n",
      "    sr = DASR(lr[:, 0, ...])\r\n",
      "  File \"/opt/conda/lib/python3.7/site-packages/torch/nn/modules/module.py\", line 1051, in _call_impl\r\n",
      "    return forward_call(*input, **kwargs)\r\n",
      "  File \"/kaggle/working/model/blindsr.py\", line 255, in forward\r\n",
      "    fea = self.E(x, x)\r\n",
      "  File \"/opt/conda/lib/python3.7/site-packages/torch/nn/modules/module.py\", line 1051, in _call_impl\r\n",
      "    return forward_call(*input, **kwargs)\r\n",
      "  File \"/kaggle/working/moco/builder.py\", line 150, in forward\r\n",
      "    embedding, _ = self.encoder_q(im_q)\r\n",
      "  File \"/opt/conda/lib/python3.7/site-packages/torch/nn/modules/module.py\", line 1051, in _call_impl\r\n",
      "    return forward_call(*input, **kwargs)\r\n",
      "  File \"/kaggle/working/model/blindsr.py\", line 225, in forward\r\n",
      "    fea = self.E(x).squeeze(-1).squeeze(-1)  # 得到退化特征表示\r\n",
      "  File \"/opt/conda/lib/python3.7/site-packages/torch/nn/modules/module.py\", line 1051, in _call_impl\r\n",
      "    return forward_call(*input, **kwargs)\r\n",
      "  File \"/opt/conda/lib/python3.7/site-packages/torch/nn/modules/container.py\", line 139, in forward\r\n",
      "    input = module(input)\r\n",
      "  File \"/opt/conda/lib/python3.7/site-packages/torch/nn/modules/module.py\", line 1051, in _call_impl\r\n",
      "    return forward_call(*input, **kwargs)\r\n",
      "  File \"/opt/conda/lib/python3.7/site-packages/torch/nn/modules/conv.py\", line 443, in forward\r\n",
      "    return self._conv_forward(input, self.weight, self.bias)\r\n",
      "  File \"/opt/conda/lib/python3.7/site-packages/torch/nn/modules/conv.py\", line 440, in _conv_forward\r\n",
      "    self.padding, self.dilation, self.groups)\r\n",
      "RuntimeError: Given groups=1, weight of size [64, 3, 3, 3], expected input[1, 4, 605, 1054] to have 3 channels, but got 4 channels instead\r\n"
     ]
    }
   ],
   "source": [
    "!python quick_test.py --img_dir='../input/dfasdfasdf/20220302164432.png' \\\n",
    "                     --scale='4' \\\n",
    "                     --resume=600 \\\n",
    "                     --blur_type='iso_gaussian'"
   ]
  }
 ],
 "metadata": {
  "kernelspec": {
   "display_name": "Python 3",
   "language": "python",
   "name": "python3"
  },
  "language_info": {
   "codemirror_mode": {
    "name": "ipython",
    "version": 3
   },
   "file_extension": ".py",
   "mimetype": "text/x-python",
   "name": "python",
   "nbconvert_exporter": "python",
   "pygments_lexer": "ipython3",
   "version": "3.7.12"
  },
  "papermill": {
   "default_parameters": {},
   "duration": 17.993261,
   "end_time": "2022-03-02T09:04:15.724860",
   "environment_variables": {},
   "exception": null,
   "input_path": "__notebook__.ipynb",
   "output_path": "__notebook__.ipynb",
   "parameters": {},
   "start_time": "2022-03-02T09:03:57.731599",
   "version": "2.3.3"
  }
 },
 "nbformat": 4,
 "nbformat_minor": 5
}
