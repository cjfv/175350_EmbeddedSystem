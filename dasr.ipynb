{
 "cells": [
  {
   "cell_type": "code",
   "execution_count": 1,
   "id": "7cc2909c",
   "metadata": {
    "execution": {
     "iopub.execute_input": "2022-03-03T16:15:48.396167Z",
     "iopub.status.busy": "2022-03-03T16:15:48.383456Z",
     "iopub.status.idle": "2022-03-03T16:18:05.028545Z",
     "shell.execute_reply": "2022-03-03T16:18:05.027932Z",
     "shell.execute_reply.started": "2022-03-03T16:09:10.375821Z"
    },
    "papermill": {
     "duration": 136.655248,
     "end_time": "2022-03-03T16:18:05.028707",
     "exception": false,
     "start_time": "2022-03-03T16:15:48.373459",
     "status": "completed"
    },
    "tags": []
   },
   "outputs": [
    {
     "name": "stdout",
     "output_type": "stream",
     "text": [
      "/kaggle/working\r\n",
      "total 112\r\n",
      "drwxr-xr-x 2 root root 4096 Mar  3 16:15 Figs\r\n",
      "-rw-r--r-- 1 root root 2988 Mar  3 16:15 README.md\r\n",
      "---------- 1 root root 4178 Mar  3 16:15 __notebook__.ipynb\r\n",
      "drwxr-xr-x 2 root root 4096 Mar  3 16:15 data\r\n",
      "-rw-r--r-- 1 root root 5129 Mar  3 16:15 dataloader.py\r\n",
      "drwxr-xr-x 6 root root 4096 Mar  3 16:15 experiment\r\n",
      "drwxr-xr-x 2 root root 4096 Mar  3 16:15 loss\r\n",
      "-rw-r--r-- 1 root root  567 Mar  3 16:15 main.py\r\n",
      "-rw-r--r-- 1 root root  639 Mar  3 16:15 main.sh\r\n",
      "drwxr-xr-x 2 root root 4096 Mar  3 16:15 moco\r\n",
      "drwxr-xr-x 2 root root 4096 Mar  3 16:15 model\r\n",
      "drwxr-xr-x 3 root root 4096 Mar  3 16:15 mydata\r\n",
      "-rw-r--r-- 1 root root 8300 Mar  3 16:15 option.py\r\n",
      "-rw-r--r-- 1 root root 2075 Mar  3 16:15 quick_test.py\r\n",
      "-rw-r--r-- 1 root root  655 Mar  3 16:15 quick_test.sh\r\n",
      "-rw-r--r-- 1 root root 1138 Mar  3 16:15 template.py\r\n",
      "-rw-r--r-- 1 root root  537 Mar  3 16:15 test.py\r\n",
      "-rw-r--r-- 1 root root  806 Mar  3 16:15 test.sh\r\n",
      "-rw-r--r-- 1 root root 8518 Mar  3 16:15 trainer.py\r\n",
      "-rw-r--r-- 1 root root 7892 Mar  3 16:15 utility.py\r\n",
      "drwxr-xr-x 2 root root 4096 Mar  3 16:15 utils\r\n"
     ]
    }
   ],
   "source": [
    "!cp -r ../input/dasr05/DASR-main/*  .\n",
    "!pwd\n",
    "!mkdir -p mydata/DF2K/HR/\n",
    "!cp -r ../input/df2k-ost/train/DIV2K/DIV2K_train_HR/* mydata/DF2K/HR/\n",
    "!cp -r ../input/df2k-ost/train/Flickr2K/* mydata/DF2K/HR/\n",
    "!ls -l ."
   ]
  },
  {
   "cell_type": "code",
   "execution_count": 2,
   "id": "d0a7f8bc",
   "metadata": {
    "execution": {
     "iopub.execute_input": "2022-03-03T16:18:05.375762Z",
     "iopub.status.busy": "2022-03-03T16:18:05.374938Z",
     "iopub.status.idle": "2022-03-03T16:18:06.717886Z",
     "shell.execute_reply": "2022-03-03T16:18:06.718263Z",
     "shell.execute_reply.started": "2022-03-03T13:53:57.053629Z"
    },
    "papermill": {
     "duration": 1.355577,
     "end_time": "2022-03-03T16:18:06.718440",
     "exception": false,
     "start_time": "2022-03-03T16:18:05.362863",
     "status": "completed"
    },
    "tags": []
   },
   "outputs": [
    {
     "name": "stdout",
     "output_type": "stream",
     "text": [
      "DF2K\r\n",
      "3450\r\n"
     ]
    }
   ],
   "source": [
    "!ls mydata\n",
    "!ls -l mydata/DF2K/HR | grep \"^-\" | wc -l"
   ]
  },
  {
   "cell_type": "code",
   "execution_count": 3,
   "id": "6a6bf6c5",
   "metadata": {
    "execution": {
     "iopub.execute_input": "2022-03-03T16:18:06.736018Z",
     "iopub.status.busy": "2022-03-03T16:18:06.735362Z",
     "iopub.status.idle": "2022-03-03T16:18:08.288884Z",
     "shell.execute_reply": "2022-03-03T16:18:08.289284Z",
     "shell.execute_reply.started": "2022-03-03T14:20:35.773149Z"
    },
    "papermill": {
     "duration": 1.564081,
     "end_time": "2022-03-03T16:18:08.289469",
     "exception": false,
     "start_time": "2022-03-03T16:18:06.725388",
     "status": "completed"
    },
    "tags": []
   },
   "outputs": [
    {
     "name": "stdout",
     "output_type": "stream",
     "text": [
      "1.9.1\n"
     ]
    }
   ],
   "source": [
    "import torch\n",
    "print(torch.__version__)"
   ]
  },
  {
   "cell_type": "code",
   "execution_count": 4,
   "id": "bd1c94a3",
   "metadata": {
    "execution": {
     "iopub.execute_input": "2022-03-03T16:18:08.309098Z",
     "iopub.status.busy": "2022-03-03T16:18:08.308022Z",
     "iopub.status.idle": "2022-03-03T17:18:32.413535Z",
     "shell.execute_reply": "2022-03-03T17:18:32.412957Z",
     "shell.execute_reply.started": "2022-03-03T16:12:39.014710Z"
    },
    "papermill": {
     "duration": 3624.117319,
     "end_time": "2022-03-03T17:18:32.413744",
     "exception": false,
     "start_time": "2022-03-03T16:18:08.296425",
     "status": "completed"
    },
    "tags": []
   },
   "outputs": [
    {
     "name": "stdout",
     "output_type": "stream",
     "text": [
      "3450\r\n",
      "./mydata/benchmark/Set14/HR\r\n",
      "./mydata/benchmark/Set14/LR_bicubic\r\n",
      "0\r\n",
      "Making model...\r\n",
      "Preparing loss function:\r\n",
      "1.000 * L1\r\n",
      "/opt/conda/lib/python3.7/site-packages/torch/optim/lr_scheduler.py:134: UserWarning: Detected call of `lr_scheduler.step()` before `optimizer.step()`. In PyTorch 1.1.0 and later, you should call them in the opposite order: `optimizer.step()` before `lr_scheduler.step()`.  Failure to do this will result in PyTorch skipping the first value of the learning rate schedule. See more details at https://pytorch.org/docs/stable/optim.html#how-to-adjust-learning-rate\r\n",
      "  \"https://pytorch.org/docs/stable/optim.html#how-to-adjust-learning-rate\", UserWarning)\r\n",
      "/opt/conda/lib/python3.7/site-packages/torch/optim/lr_scheduler.py:154: UserWarning: The epoch parameter in `scheduler.step()` was not necessary and is being deprecated where possible. Please use `scheduler.step()` to step the scheduler. During the deprecation, if epoch is different from None, the closed form is used instead of the new chainable form, where available. Please open an issue if you are unable to replicate your use case: https://github.com/pytorch/pytorch/issues/new/choose.\r\n",
      "  warnings.warn(EPOCH_DEPRECATION_WARNING, UserWarning)\r\n",
      "[Epoch 0]\tLearning rate: 1.00e-3\r\n",
      "Epoch: [000][6400/31050]\tLoss [contrastive loss: 6.249]\tTime [9.9s]\r\n",
      "Epoch: [000][12800/31050]\tLoss [contrastive loss: 6.390]\tTime [4.2s]\r\n",
      "Epoch: [000][19200/31050]\tLoss [contrastive loss: 6.470]\tTime [4.2s]\r\n",
      "Epoch: [000][25600/31050]\tLoss [contrastive loss: 6.547]\tTime [4.2s]\r\n",
      "Traceback (most recent call last):\r\n",
      "  File \"main.py\", line 26, in <module>\r\n",
      "    run()\r\n",
      "  File \"main.py\", line 19, in run\r\n",
      "    t.train()\r\n",
      "  File \"/kaggle/working/trainer.py\", line 132, in train\r\n",
      "    self.ckp.save(self, epoch)\r\n",
      "  File \"/kaggle/working/utility.py\", line 86, in save\r\n",
      "    trainer.loss.plot_loss(self.dir, epoch)\r\n",
      "  File \"/kaggle/working/loss/__init__.py\", line 112, in plot_loss\r\n",
      "    plt.plot(axis, self.log[:, i].numpy(), label=label)\r\n",
      "  File \"/opt/conda/lib/python3.7/site-packages/matplotlib/pyplot.py\", line 2759, in plot\r\n",
      "    **({\"data\": data} if data is not None else {}), **kwargs)\r\n",
      "  File \"/opt/conda/lib/python3.7/site-packages/matplotlib/axes/_axes.py\", line 1632, in plot\r\n",
      "    lines = [*self._get_lines(*args, data=data, **kwargs)]\r\n",
      "  File \"/opt/conda/lib/python3.7/site-packages/matplotlib/axes/_base.py\", line 312, in __call__\r\n",
      "    yield from self._plot_args(this, kwargs)\r\n",
      "  File \"/opt/conda/lib/python3.7/site-packages/matplotlib/axes/_base.py\", line 498, in _plot_args\r\n",
      "    raise ValueError(f\"x and y must have same first dimension, but \"\r\n",
      "ValueError: x and y must have same first dimension, but have shapes (0,) and (1,)\r\n"
     ]
    }
   ],
   "source": [
    "!python main.py --dir_data=./mydata \\\n",
    "--model=blindsr \\\n",
    "--scale=4 \\\n",
    "--blur_type=iso_gaussian \\\n",
    "--noise=0.0 \\\n",
    "--sig_min=0.2 \\\n",
    "--sig_max=4.0"
   ]
  },
  {
   "cell_type": "code",
   "execution_count": null,
   "id": "e00d7f08",
   "metadata": {
    "papermill": {
     "duration": 0.008812,
     "end_time": "2022-03-03T17:18:32.431805",
     "exception": false,
     "start_time": "2022-03-03T17:18:32.422993",
     "status": "completed"
    },
    "tags": []
   },
   "outputs": [],
   "source": []
  }
 ],
 "metadata": {
  "kernelspec": {
   "display_name": "Python 3",
   "language": "python",
   "name": "python3"
  },
  "language_info": {
   "codemirror_mode": {
    "name": "ipython",
    "version": 3
   },
   "file_extension": ".py",
   "mimetype": "text/x-python",
   "name": "python",
   "nbconvert_exporter": "python",
   "pygments_lexer": "ipython3",
   "version": "3.7.12"
  },
  "papermill": {
   "default_parameters": {},
   "duration": 3772.919365,
   "end_time": "2022-03-03T17:18:33.397821",
   "environment_variables": {},
   "exception": null,
   "input_path": "__notebook__.ipynb",
   "output_path": "__notebook__.ipynb",
   "parameters": {},
   "start_time": "2022-03-03T16:15:40.478456",
   "version": "2.3.3"
  }
 },
 "nbformat": 4,
 "nbformat_minor": 5
}
