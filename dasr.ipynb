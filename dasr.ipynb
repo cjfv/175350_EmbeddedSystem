{
 "cells": [
  {
   "cell_type": "code",
   "execution_count": 1,
   "id": "792fd915",
   "metadata": {
    "execution": {
     "iopub.execute_input": "2022-03-03T09:53:34.185999Z",
     "iopub.status.busy": "2022-03-03T09:53:34.185027Z",
     "iopub.status.idle": "2022-03-03T09:53:41.690731Z",
     "shell.execute_reply": "2022-03-03T09:53:41.689998Z",
     "shell.execute_reply.started": "2022-03-03T09:46:57.930665Z"
    },
    "papermill": {
     "duration": 7.535173,
     "end_time": "2022-03-03T09:53:41.690876",
     "exception": false,
     "start_time": "2022-03-03T09:53:34.155703",
     "status": "completed"
    },
    "tags": []
   },
   "outputs": [
    {
     "name": "stdout",
     "output_type": "stream",
     "text": [
      "/kaggle/working\r\n",
      "total 112\r\n",
      "drwxr-xr-x 2 root root 4096 Mar  3 09:53 Figs\r\n",
      "-rw-r--r-- 1 root root 2988 Mar  3 09:53 README.md\r\n",
      "---------- 1 root root 4401 Mar  3 09:53 __notebook__.ipynb\r\n",
      "drwxr-xr-x 2 root root 4096 Mar  3 09:53 data\r\n",
      "-rw-r--r-- 1 root root 4988 Mar  3 09:53 dataloader.py\r\n",
      "drwxr-xr-x 6 root root 4096 Mar  3 09:53 experiment\r\n",
      "drwxr-xr-x 2 root root 4096 Mar  3 09:53 loss\r\n",
      "-rw-r--r-- 1 root root  539 Mar  3 09:53 main.py\r\n",
      "-rw-r--r-- 1 root root  639 Mar  3 09:53 main.sh\r\n",
      "drwxr-xr-x 2 root root 4096 Mar  3 09:53 moco\r\n",
      "drwxr-xr-x 2 root root 4096 Mar  3 09:53 model\r\n",
      "drwxr-xr-x 3 root root 4096 Mar  3 09:53 mydata\r\n",
      "-rw-r--r-- 1 root root 8299 Mar  3 09:53 option.py\r\n",
      "-rw-r--r-- 1 root root 2084 Mar  3 09:53 quick_test.py\r\n",
      "-rw-r--r-- 1 root root  655 Mar  3 09:53 quick_test.sh\r\n",
      "-rw-r--r-- 1 root root 1138 Mar  3 09:53 template.py\r\n",
      "-rw-r--r-- 1 root root  537 Mar  3 09:53 test.py\r\n",
      "-rw-r--r-- 1 root root  806 Mar  3 09:53 test.sh\r\n",
      "-rw-r--r-- 1 root root 8519 Mar  3 09:53 trainer.py\r\n",
      "-rw-r--r-- 1 root root 7892 Mar  3 09:53 utility.py\r\n",
      "drwxr-xr-x 2 root root 4096 Mar  3 09:53 utils\r\n"
     ]
    }
   ],
   "source": [
    "!cp -r ../input/dasr02/DASR-main/*  .\n",
    "!pwd\n",
    "!mkdir -p mydata/DF2K/HR/\n",
    "!cp -r ../input/test001/329C397A906B7D9F0E5015779AEC3A81.png mydata\n",
    "!ls -l ."
   ]
  },
  {
   "cell_type": "code",
   "execution_count": 2,
   "id": "94412432",
   "metadata": {
    "execution": {
     "iopub.execute_input": "2022-03-03T09:53:41.710126Z",
     "iopub.status.busy": "2022-03-03T09:53:41.709400Z",
     "iopub.status.idle": "2022-03-03T09:53:42.359158Z",
     "shell.execute_reply": "2022-03-03T09:53:42.358701Z",
     "shell.execute_reply.started": "2022-03-03T09:47:06.891499Z"
    },
    "papermill": {
     "duration": 0.659874,
     "end_time": "2022-03-03T09:53:42.359279",
     "exception": false,
     "start_time": "2022-03-03T09:53:41.699405",
     "status": "completed"
    },
    "tags": []
   },
   "outputs": [
    {
     "name": "stdout",
     "output_type": "stream",
     "text": [
      "\u001b[01;34m./mydata\u001b[00m\r\n",
      "├── 329C397A906B7D9F0E5015779AEC3A81.png\r\n",
      "└── \u001b[01;34mDF2K\u001b[00m\r\n",
      "    └── \u001b[01;34mHR\u001b[00m\r\n",
      "\r\n",
      "2 directories, 1 file\r\n"
     ]
    }
   ],
   "source": [
    "!tree ./mydata"
   ]
  },
  {
   "cell_type": "code",
   "execution_count": 3,
   "id": "2f10cd96",
   "metadata": {
    "execution": {
     "iopub.execute_input": "2022-03-03T09:53:42.376945Z",
     "iopub.status.busy": "2022-03-03T09:53:42.376232Z",
     "iopub.status.idle": "2022-03-03T09:54:39.967910Z",
     "shell.execute_reply": "2022-03-03T09:54:39.967031Z",
     "shell.execute_reply.started": "2022-03-02T09:39:22.755196Z"
    },
    "papermill": {
     "duration": 57.602426,
     "end_time": "2022-03-03T09:54:39.968081",
     "exception": false,
     "start_time": "2022-03-03T09:53:42.365655",
     "status": "completed"
    },
    "tags": []
   },
   "outputs": [
    {
     "name": "stdout",
     "output_type": "stream",
     "text": [
      "Collecting torch==1.1.0\r\n",
      "  Downloading torch-1.1.0-cp37-cp37m-manylinux1_x86_64.whl (676.9 MB)\r\n",
      "     |████████████████████████████████| 676.9 MB 3.0 kB/s             \r\n",
      "\u001b[?25hRequirement already satisfied: numpy in /opt/conda/lib/python3.7/site-packages (from torch==1.1.0) (1.20.3)\r\n",
      "Installing collected packages: torch\r\n",
      "  Attempting uninstall: torch\r\n",
      "    Found existing installation: torch 1.9.1\r\n",
      "    Uninstalling torch-1.9.1:\r\n",
      "      Successfully uninstalled torch-1.9.1\r\n",
      "\u001b[31mERROR: pip's dependency resolver does not currently take into account all the packages that are installed. This behaviour is the source of the following dependency conflicts.\r\n",
      "torchmetrics 0.6.2 requires torch>=1.3.1, but you have torch 1.1.0 which is incompatible.\r\n",
      "pytorch-lightning 1.5.9 requires torch>=1.7.*, but you have torch 1.1.0 which is incompatible.\r\n",
      "pytorch-ignite 0.4.8 requires torch<2,>=1.3, but you have torch 1.1.0 which is incompatible.\r\n",
      "kornia 0.5.8 requires torch>=1.6.0, but you have torch 1.1.0 which is incompatible.\r\n",
      "fastai 2.5.3 requires torch<1.11,>=1.7.0, but you have torch 1.1.0 which is incompatible.\r\n",
      "fairscale 0.4.5 requires torch>=1.8.0, but you have torch 1.1.0 which is incompatible.\r\n",
      "catalyst 21.12 requires torch>=1.3.0, but you have torch 1.1.0 which is incompatible.\r\n",
      "allennlp 2.9.0 requires torch<1.11.0,>=1.6.0, but you have torch 1.1.0 which is incompatible.\u001b[0m\r\n",
      "Successfully installed torch-1.1.0\r\n",
      "\u001b[33mWARNING: Running pip as the 'root' user can result in broken permissions and conflicting behaviour with the system package manager. It is recommended to use a virtual environment instead: https://pip.pypa.io/warnings/venv\u001b[0m\r\n"
     ]
    }
   ],
   "source": [
    "!pip install torch==1.1.0"
   ]
  },
  {
   "cell_type": "code",
   "execution_count": 4,
   "id": "e33bff67",
   "metadata": {
    "execution": {
     "iopub.execute_input": "2022-03-03T09:54:40.549548Z",
     "iopub.status.busy": "2022-03-03T09:54:40.548626Z",
     "iopub.status.idle": "2022-03-03T09:54:40.983015Z",
     "shell.execute_reply": "2022-03-03T09:54:40.983641Z",
     "shell.execute_reply.started": "2022-03-02T09:40:49.331189Z"
    },
    "papermill": {
     "duration": 0.762801,
     "end_time": "2022-03-03T09:54:40.983847",
     "exception": false,
     "start_time": "2022-03-03T09:54:40.221046",
     "status": "completed"
    },
    "tags": []
   },
   "outputs": [
    {
     "name": "stdout",
     "output_type": "stream",
     "text": [
      "1.1.0\n"
     ]
    }
   ],
   "source": [
    "import torch\n",
    "print(torch.__version__)"
   ]
  },
  {
   "cell_type": "code",
   "execution_count": 5,
   "id": "4ebb75a4",
   "metadata": {
    "execution": {
     "iopub.execute_input": "2022-03-03T09:54:41.681681Z",
     "iopub.status.busy": "2022-03-03T09:54:41.680893Z",
     "iopub.status.idle": "2022-03-03T09:54:44.370419Z",
     "shell.execute_reply": "2022-03-03T09:54:44.369904Z",
     "shell.execute_reply.started": "2022-03-02T08:13:55.893622Z"
    },
    "papermill": {
     "duration": 2.973455,
     "end_time": "2022-03-03T09:54:44.370555",
     "exception": false,
     "start_time": "2022-03-03T09:54:41.397100",
     "status": "completed"
    },
    "tags": []
   },
   "outputs": [
    {
     "name": "stdout",
     "output_type": "stream",
     "text": [
      "usage: quick_test.py [-h] [--img_dir IMG_DIR] [--scale SCALE]\r\n",
      "                     [--resume RESUME] [--blur_type BLUR_TYPE] [--cpu CPU]\r\n",
      "quick_test.py: error: unrecognized arguments: \\\r\n"
     ]
    }
   ],
   "source": [
    "!python quick_test.py --img_dir='./mydata' \\\n",
    "               --scale='4' \\\n",
    "               --blur_type='aniso_gaussian' \\\n",
    "               --resume=158 \\"
   ]
  }
 ],
 "metadata": {
  "kernelspec": {
   "display_name": "Python 3",
   "language": "python",
   "name": "python3"
  },
  "language_info": {
   "codemirror_mode": {
    "name": "ipython",
    "version": 3
   },
   "file_extension": ".py",
   "mimetype": "text/x-python",
   "name": "python",
   "nbconvert_exporter": "python",
   "pygments_lexer": "ipython3",
   "version": "3.7.12"
  },
  "papermill": {
   "default_parameters": {},
   "duration": 78.860288,
   "end_time": "2022-03-03T09:54:45.117975",
   "environment_variables": {},
   "exception": null,
   "input_path": "__notebook__.ipynb",
   "output_path": "__notebook__.ipynb",
   "parameters": {},
   "start_time": "2022-03-03T09:53:26.257687",
   "version": "2.3.3"
  }
 },
 "nbformat": 4,
 "nbformat_minor": 5
}
