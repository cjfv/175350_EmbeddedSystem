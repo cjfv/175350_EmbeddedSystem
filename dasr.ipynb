{
 "cells": [
  {
   "cell_type": "code",
   "execution_count": 1,
   "id": "ac00a1fa",
   "metadata": {
    "execution": {
     "iopub.execute_input": "2022-03-02T09:30:12.125072Z",
     "iopub.status.busy": "2022-03-02T09:30:12.124150Z",
     "iopub.status.idle": "2022-03-02T09:30:52.999737Z",
     "shell.execute_reply": "2022-03-02T09:30:52.998710Z",
     "shell.execute_reply.started": "2022-03-02T09:28:35.728791Z"
    },
    "papermill": {
     "duration": 40.901639,
     "end_time": "2022-03-02T09:30:52.999913",
     "exception": false,
     "start_time": "2022-03-02T09:30:12.098274",
     "status": "completed"
    },
    "tags": []
   },
   "outputs": [],
   "source": [
    "!cp -r ../input/dasr01/DASR-main/*  .\n",
    "!cp -r ../input/image-project/ground\\ truth\\ train ./mydata"
   ]
  },
  {
   "cell_type": "code",
   "execution_count": 2,
   "id": "45fa75d1",
   "metadata": {
    "execution": {
     "iopub.execute_input": "2022-03-02T09:30:53.015083Z",
     "iopub.status.busy": "2022-03-02T09:30:53.014368Z",
     "iopub.status.idle": "2022-03-02T09:30:57.536467Z",
     "shell.execute_reply": "2022-03-02T09:30:57.535851Z",
     "shell.execute_reply.started": "2022-03-02T08:13:55.893622Z"
    },
    "papermill": {
     "duration": 4.532784,
     "end_time": "2022-03-02T09:30:57.536674",
     "exception": false,
     "start_time": "2022-03-02T09:30:53.003890",
     "status": "completed"
    },
    "tags": []
   },
   "outputs": [
    {
     "name": "stdout",
     "output_type": "stream",
     "text": [
      "Traceback (most recent call last):\r\n",
      "  File \"main.py\", line 4, in <module>\r\n",
      "    import data\r\n",
      "  File \"/kaggle/working/data/__init__.py\", line 2, in <module>\r\n",
      "    from dataloader import MSDataLoader\r\n",
      "  File \"/kaggle/working/dataloader.py\", line 12, in <module>\r\n",
      "    from torch.utils.data.dataloader import _DataLoaderIter   # _DataLoaderIter新版本不存在了\r\n",
      "ImportError: cannot import name '_DataLoaderIter' from 'torch.utils.data.dataloader' (/opt/conda/lib/python3.7/site-packages/torch/utils/data/dataloader.py)\r\n"
     ]
    }
   ],
   "source": [
    "!python main.py --dir_data='./mydata' \\\n",
    "               --model='blindsr' \\\n",
    "               --scale='4' \\\n",
    "               --blur_type='aniso_gaussian' \\\n",
    "               --noise=25.0 \\\n",
    "               --lambda_min=0.2 \\\n",
    "               --lambda_max=4.0"
   ]
  }
 ],
 "metadata": {
  "kernelspec": {
   "display_name": "Python 3",
   "language": "python",
   "name": "python3"
  },
  "language_info": {
   "codemirror_mode": {
    "name": "ipython",
    "version": 3
   },
   "file_extension": ".py",
   "mimetype": "text/x-python",
   "name": "python",
   "nbconvert_exporter": "python",
   "pygments_lexer": "ipython3",
   "version": "3.7.12"
  },
  "papermill": {
   "default_parameters": {},
   "duration": 54.957039,
   "end_time": "2022-03-02T09:30:58.251206",
   "environment_variables": {},
   "exception": null,
   "input_path": "__notebook__.ipynb",
   "output_path": "__notebook__.ipynb",
   "parameters": {},
   "start_time": "2022-03-02T09:30:03.294167",
   "version": "2.3.3"
  }
 },
 "nbformat": 4,
 "nbformat_minor": 5
}
