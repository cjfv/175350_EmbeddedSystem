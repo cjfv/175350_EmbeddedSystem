{
 "cells": [
  {
   "cell_type": "code",
   "execution_count": 1,
   "id": "6883ce58",
   "metadata": {
    "execution": {
     "iopub.execute_input": "2022-03-02T10:25:26.968159Z",
     "iopub.status.busy": "2022-03-02T10:25:26.965095Z",
     "iopub.status.idle": "2022-03-02T10:26:04.285090Z",
     "shell.execute_reply": "2022-03-02T10:26:04.285586Z",
     "shell.execute_reply.started": "2022-03-02T09:56:00.982002Z"
    },
    "papermill": {
     "duration": 37.337569,
     "end_time": "2022-03-02T10:26:04.285884",
     "exception": false,
     "start_time": "2022-03-02T10:25:26.948315",
     "status": "completed"
    },
    "tags": []
   },
   "outputs": [
    {
     "name": "stdout",
     "output_type": "stream",
     "text": [
      "/kaggle/working\r\n",
      "total 104\r\n",
      "drwxr-xr-x 2 root root 4096 Mar  2 10:25 Figs\r\n",
      "-rw-r--r-- 1 root root 2988 Mar  2 10:25 README.md\r\n",
      "---------- 1 root root 3916 Mar  2 10:25 __notebook__.ipynb\r\n",
      "drwxr-xr-x 2 root root 4096 Mar  2 10:25 data\r\n",
      "-rw-r--r-- 1 root root 4988 Mar  2 10:25 dataloader.py\r\n",
      "drwxr-xr-x 6 root root 4096 Mar  2 10:25 experiment\r\n",
      "drwxr-xr-x 2 root root 4096 Mar  2 10:25 loss\r\n",
      "-rw-r--r-- 1 root root  539 Mar  2 10:25 main.py\r\n",
      "-rw-r--r-- 1 root root  639 Mar  2 10:25 main.sh\r\n",
      "drwxr-xr-x 2 root root 4096 Mar  2 10:25 moco\r\n",
      "drwxr-xr-x 2 root root 4096 Mar  2 10:25 model\r\n",
      "drwxr-xr-x 3 root root 4096 Mar  2 10:25 mydata\r\n",
      "-rw-r--r-- 1 root root 8299 Mar  2 10:25 option.py\r\n",
      "-rw-r--r-- 1 root root 1859 Mar  2 10:25 quick_test.py\r\n",
      "-rw-r--r-- 1 root root  655 Mar  2 10:25 quick_test.sh\r\n",
      "-rw-r--r-- 1 root root 1138 Mar  2 10:25 template.py\r\n",
      "-rw-r--r-- 1 root root  537 Mar  2 10:25 test.py\r\n",
      "-rw-r--r-- 1 root root  806 Mar  2 10:25 test.sh\r\n",
      "-rw-r--r-- 1 root root 8138 Mar  2 10:25 trainer.py\r\n",
      "-rw-r--r-- 1 root root 7852 Mar  2 10:25 utility.py\r\n",
      "drwxr-xr-x 2 root root 4096 Mar  2 10:25 utils\r\n"
     ]
    }
   ],
   "source": [
    "!cp -r ../input/dasr01/DASR-main/*  .\n",
    "!pwd\n",
    "!mkdir -p mydata/DF2K/HR/\n",
    "!cp -r ../input/image-project/ground\\ truth\\ train/* mydata/DF2K/HR/\n",
    "!ls -l ."
   ]
  },
  {
   "cell_type": "code",
   "execution_count": 2,
   "id": "cc1c4f2c",
   "metadata": {
    "execution": {
     "iopub.execute_input": "2022-03-02T10:26:04.301890Z",
     "iopub.status.busy": "2022-03-02T10:26:04.301122Z",
     "iopub.status.idle": "2022-03-02T10:27:14.902253Z",
     "shell.execute_reply": "2022-03-02T10:27:14.901709Z",
     "shell.execute_reply.started": "2022-03-02T09:39:22.755196Z"
    },
    "papermill": {
     "duration": 70.610958,
     "end_time": "2022-03-02T10:27:14.902379",
     "exception": false,
     "start_time": "2022-03-02T10:26:04.291421",
     "status": "completed"
    },
    "tags": []
   },
   "outputs": [
    {
     "name": "stdout",
     "output_type": "stream",
     "text": [
      "Collecting numpy==1.14.*\r\n",
      "  Downloading numpy-1.14.6-cp37-cp37m-manylinux1_x86_64.whl (13.8 MB)\r\n",
      "     |████████████████████████████████| 13.8 MB 916 kB/s            \r\n",
      "\u001b[?25hInstalling collected packages: numpy\r\n",
      "  Attempting uninstall: numpy\r\n",
      "    Found existing installation: numpy 1.20.3\r\n",
      "    Uninstalling numpy-1.20.3:\r\n",
      "      Successfully uninstalled numpy-1.20.3\r\n",
      "\u001b[31mERROR: pip's dependency resolver does not currently take into account all the packages that are installed. This behaviour is the source of the following dependency conflicts.\r\n",
      "tensorflow-io 0.21.0 requires tensorflow-io-gcs-filesystem==0.21.0, which is not installed.\r\n",
      "explainable-ai-sdk 1.3.2 requires xai-image-widget, which is not installed.\r\n",
      "dask-cudf 21.10.1 requires cupy-cuda114, which is not installed.\r\n",
      "beatrix-jupyterlab 3.1.6 requires google-cloud-bigquery-storage, which is not installed.\r\n",
      "yellowbrick 1.3.post1 requires numpy<1.20,>=1.16.0, but you have numpy 1.14.6 which is incompatible.\r\n",
      "xarray 0.20.2 requires numpy>=1.18, but you have numpy 1.14.6 which is incompatible.\r\n",
      "vaex-core 4.8.0 requires numpy>=1.16, but you have numpy 1.14.6 which is incompatible.\r\n",
      "umap-learn 0.5.2 requires numpy>=1.17, but you have numpy 1.14.6 which is incompatible.\r\n",
      "tsfresh 0.19.0 requires numpy>=1.15.1, but you have numpy 1.14.6 which is incompatible.\r\n",
      "transformers 4.15.0 requires numpy>=1.17, but you have numpy 1.14.6 which is incompatible.\r\n",
      "tpot 0.11.7 requires numpy>=1.16.3, but you have numpy 1.14.6 which is incompatible.\r\n",
      "torchmetrics 0.6.2 requires numpy>=1.17.2, but you have numpy 1.14.6 which is incompatible.\r\n",
      "tifffile 2021.11.2 requires numpy>=1.15.1, but you have numpy 1.14.6 which is incompatible.\r\n",
      "thinc 8.0.13 requires numpy>=1.15.0, but you have numpy 1.14.6 which is incompatible.\r\n",
      "thinc 8.0.13 requires typing-extensions<4.0.0.0,>=3.7.4.1; python_version < \"3.8\", but you have typing-extensions 4.0.1 which is incompatible.\r\n",
      "tfx-bsl 1.5.0 requires absl-py<0.13,>=0.9, but you have absl-py 0.15.0 which is incompatible.\r\n",
      "tfx-bsl 1.5.0 requires numpy<1.20,>=1.16, but you have numpy 1.14.6 which is incompatible.\r\n",
      "tfx-bsl 1.5.0 requires pyarrow<6,>=1, but you have pyarrow 6.0.1 which is incompatible.\r\n",
      "tfx-bsl 1.5.0 requires tensorflow!=2.0.*,!=2.1.*,!=2.2.*,!=2.3.*,!=2.4.*,!=2.5.*,!=2.6.*,<3,>=1.15.2, but you have tensorflow 2.6.2 which is incompatible.\r\n",
      "tensorflow 2.6.2 requires numpy~=1.19.2, but you have numpy 1.14.6 which is incompatible.\r\n",
      "tensorflow 2.6.2 requires six~=1.15.0, but you have six 1.16.0 which is incompatible.\r\n",
      "tensorflow 2.6.2 requires typing-extensions~=3.7.4, but you have typing-extensions 4.0.1 which is incompatible.\r\n",
      "tensorflow 2.6.2 requires wrapt~=1.12.1, but you have wrapt 1.13.3 which is incompatible.\r\n",
      "tensorflow-transform 1.5.0 requires absl-py<0.13,>=0.9, but you have absl-py 0.15.0 which is incompatible.\r\n",
      "tensorflow-transform 1.5.0 requires numpy<1.20,>=1.16, but you have numpy 1.14.6 which is incompatible.\r\n",
      "tensorflow-transform 1.5.0 requires pyarrow<6,>=1, but you have pyarrow 6.0.1 which is incompatible.\r\n",
      "tensorflow-transform 1.5.0 requires tensorflow!=2.0.*,!=2.1.*,!=2.2.*,!=2.3.*,!=2.4.*,!=2.5.*,!=2.6.*,<2.8,>=1.15.2, but you have tensorflow 2.6.2 which is incompatible.\r\n",
      "tensorflow-serving-api 2.7.0 requires tensorflow<3,>=2.7.0, but you have tensorflow 2.6.2 which is incompatible.\r\n",
      "tables 3.7.0 requires numpy>=1.19.0, but you have numpy 1.14.6 which is incompatible.\r\n",
      "stumpy 1.10.2 requires numpy>=1.15, but you have numpy 1.14.6 which is incompatible.\r\n",
      "statsmodels 0.13.1 requires numpy>=1.17, but you have numpy 1.14.6 which is incompatible.\r\n",
      "spacy 3.2.1 requires numpy>=1.15.0, but you have numpy 1.14.6 which is incompatible.\r\n",
      "spacy 3.2.1 requires typing-extensions<4.0.0.0,>=3.7.4; python_version < \"3.8\", but you have typing-extensions 4.0.1 which is incompatible.\r\n",
      "sklearn-pandas 2.2.0 requires numpy>=1.18.1, but you have numpy 1.14.6 which is incompatible.\r\n",
      "seaborn 0.11.2 requires numpy>=1.15, but you have numpy 1.14.6 which is incompatible.\r\n",
      "scipy 1.7.3 requires numpy<1.23.0,>=1.16.5, but you have numpy 1.14.6 which is incompatible.\r\n",
      "scikit-image 0.19.1 requires numpy>=1.17.0, but you have numpy 1.14.6 which is incompatible.\r\n",
      "ray 1.10.0 requires numpy>=1.16; python_version < \"3.9\", but you have numpy 1.14.6 which is incompatible.\r\n",
      "pywavelets 1.2.0 requires numpy>=1.17.3, but you have numpy 1.14.6 which is incompatible.\r\n",
      "pytorch-lightning 1.5.9 requires numpy>=1.17.2, but you have numpy 1.14.6 which is incompatible.\r\n",
      "pymc3 3.11.4 requires numpy>=1.15.0, but you have numpy 1.14.6 which is incompatible.\r\n",
      "pyerfa 2.0.0.1 requires numpy>=1.17, but you have numpy 1.14.6 which is incompatible.\r\n",
      "pyarrow 6.0.1 requires numpy>=1.16.6, but you have numpy 1.14.6 which is incompatible.\r\n",
      "plotnine 0.8.0 requires numpy>=1.19.0, but you have numpy 1.14.6 which is incompatible.\r\n",
      "phik 0.12.0 requires numpy>=1.18.0, but you have numpy 1.14.6 which is incompatible.\r\n",
      "pdpbox 0.2.1 requires matplotlib==3.1.1, but you have matplotlib 3.5.1 which is incompatible.\r\n",
      "pandas 1.3.5 requires numpy>=1.17.3, but you have numpy 1.14.6 which is incompatible.\r\n",
      "pandas-profiling 3.0.0 requires numpy>=1.16.0, but you have numpy 1.14.6 which is incompatible.\r\n",
      "osmnx 1.1.1 requires numpy>=1.19, but you have numpy 1.14.6 which is incompatible.\r\n",
      "optax 0.1.1 requires numpy>=1.18.0, but you have numpy 1.14.6 which is incompatible.\r\n",
      "numba 0.54.1 requires numpy<1.21,>=1.17, but you have numpy 1.14.6 which is incompatible.\r\n",
      "nilearn 0.9.0 requires numpy>=1.16, but you have numpy 1.14.6 which is incompatible.\r\n",
      "mxnet-cu110 1.9.0 requires numpy<2.0.0,>1.16.0, but you have numpy 1.14.6 which is incompatible.\r\n",
      "mne 0.24.1 requires numpy>=1.15.4, but you have numpy 1.14.6 which is incompatible.\r\n",
      "mlxtend 0.19.0 requires numpy>=1.16.2, but you have numpy 1.14.6 which is incompatible.\r\n",
      "matrixprofile 1.1.10 requires numpy>=1.16.2, but you have numpy 1.14.6 which is incompatible.\r\n",
      "matplotlib 3.5.1 requires numpy>=1.17, but you have numpy 1.14.6 which is incompatible.\r\n",
      "librosa 0.9.0 requires numpy>=1.17.0, but you have numpy 1.14.6 which is incompatible.\r\n",
      "jaxlib 0.1.76+cuda11.cudnn805 requires numpy>=1.19, but you have numpy 1.14.6 which is incompatible.\r\n",
      "jax 0.2.28 requires numpy>=1.19, but you have numpy 1.14.6 which is incompatible.\r\n",
      "imgaug 0.4.0 requires numpy>=1.15, but you have numpy 1.14.6 which is incompatible.\r\n",
      "imbalanced-learn 0.9.0 requires scikit-learn>=1.0.1, but you have scikit-learn 0.23.2 which is incompatible.\r\n",
      "imagecodecs 2021.11.20 requires numpy>=1.16.5, but you have numpy 1.14.6 which is incompatible.\r\n",
      "gym 0.21.0 requires numpy>=1.18.0, but you have numpy 1.14.6 which is incompatible.\r\n",
      "gluonnlp 0.10.0 requires numpy>=1.16.0, but you have numpy 1.14.6 which is incompatible.\r\n",
      "featuretools 1.4.1 requires numpy>=1.21.0, but you have numpy 1.14.6 which is incompatible.\r\n",
      "fbprophet 0.7.1 requires numpy>=1.15.4, but you have numpy 1.14.6 which is incompatible.\r\n",
      "dask-cudf 21.10.1 requires dask==2021.09.1, but you have dask 2022.1.1 which is incompatible.\r\n",
      "dask-cudf 21.10.1 requires distributed==2021.09.1, but you have distributed 2022.1.1 which is incompatible.\r\n",
      "cupy 9.6.0 requires numpy<1.24,>=1.17, but you have numpy 1.14.6 which is incompatible.\r\n",
      "cupy-cuda110 9.6.0 requires numpy<1.24,>=1.17, but you have numpy 1.14.6 which is incompatible.\r\n",
      "chex 0.1.0 requires numpy>=1.18.0, but you have numpy 1.14.6 which is incompatible.\r\n",
      "checklist 0.0.11 requires numpy>=1.18, but you have numpy 1.14.6 which is incompatible.\r\n",
      "catboost 1.0.4 requires numpy>=1.16.0, but you have numpy 1.14.6 which is incompatible.\r\n",
      "catalyst 21.12 requires numpy>=1.18, but you have numpy 1.14.6 which is incompatible.\r\n",
      "blis 0.7.5 requires numpy>=1.15.0, but you have numpy 1.14.6 which is incompatible.\r\n",
      "astropy 4.3.1 requires numpy>=1.17, but you have numpy 1.14.6 which is incompatible.\r\n",
      "arviz 0.11.4 requires typing-extensions<4,>=3.7.4.3, but you have typing-extensions 4.0.1 which is incompatible.\r\n",
      "apache-beam 2.34.0 requires dill<0.3.2,>=0.3.1.1, but you have dill 0.3.4 which is incompatible.\r\n",
      "apache-beam 2.34.0 requires httplib2<0.20.0,>=0.8, but you have httplib2 0.20.2 which is incompatible.\r\n",
      "apache-beam 2.34.0 requires pyarrow<6.0.0,>=0.15.1, but you have pyarrow 6.0.1 which is incompatible.\r\n",
      "apache-beam 2.34.0 requires typing-extensions<4,>=3.7.0, but you have typing-extensions 4.0.1 which is incompatible.\u001b[0m\r\n",
      "Successfully installed numpy-1.14.6\r\n",
      "\u001b[33mWARNING: Running pip as the 'root' user can result in broken permissions and conflicting behaviour with the system package manager. It is recommended to use a virtual environment instead: https://pip.pypa.io/warnings/venv\u001b[0m\r\n",
      "Collecting torch==1.1.0\r\n",
      "  Downloading torch-1.1.0-cp37-cp37m-manylinux1_x86_64.whl (676.9 MB)\r\n",
      "     |████████████████████████████████| 676.9 MB 2.1 kB/s             \r\n",
      "\u001b[?25hRequirement already satisfied: numpy in /opt/conda/lib/python3.7/site-packages (from torch==1.1.0) (1.14.6)\r\n",
      "Installing collected packages: torch\r\n",
      "  Attempting uninstall: torch\r\n",
      "    Found existing installation: torch 1.9.1\r\n",
      "    Uninstalling torch-1.9.1:\r\n",
      "      Successfully uninstalled torch-1.9.1\r\n",
      "\u001b[31mERROR: pip's dependency resolver does not currently take into account all the packages that are installed. This behaviour is the source of the following dependency conflicts.\r\n",
      "torchmetrics 0.6.2 requires numpy>=1.17.2, but you have numpy 1.14.6 which is incompatible.\r\n",
      "torchmetrics 0.6.2 requires torch>=1.3.1, but you have torch 1.1.0 which is incompatible.\r\n",
      "pytorch-lightning 1.5.9 requires numpy>=1.17.2, but you have numpy 1.14.6 which is incompatible.\r\n",
      "pytorch-lightning 1.5.9 requires torch>=1.7.*, but you have torch 1.1.0 which is incompatible.\r\n",
      "pytorch-ignite 0.4.8 requires torch<2,>=1.3, but you have torch 1.1.0 which is incompatible.\r\n",
      "kornia 0.5.8 requires torch>=1.6.0, but you have torch 1.1.0 which is incompatible.\r\n",
      "fastai 2.5.3 requires torch<1.11,>=1.7.0, but you have torch 1.1.0 which is incompatible.\r\n",
      "fairscale 0.4.5 requires torch>=1.8.0, but you have torch 1.1.0 which is incompatible.\r\n",
      "catalyst 21.12 requires numpy>=1.18, but you have numpy 1.14.6 which is incompatible.\r\n",
      "catalyst 21.12 requires torch>=1.3.0, but you have torch 1.1.0 which is incompatible.\r\n",
      "allennlp 2.9.0 requires torch<1.11.0,>=1.6.0, but you have torch 1.1.0 which is incompatible.\u001b[0m\r\n",
      "Successfully installed torch-1.1.0\r\n",
      "\u001b[33mWARNING: Running pip as the 'root' user can result in broken permissions and conflicting behaviour with the system package manager. It is recommended to use a virtual environment instead: https://pip.pypa.io/warnings/venv\u001b[0m\r\n"
     ]
    }
   ],
   "source": [
    "!pip install numpy==1.14.*\n",
    "!pip install torch==1.1.0"
   ]
  },
  {
   "cell_type": "code",
   "execution_count": 3,
   "id": "064c293c",
   "metadata": {
    "execution": {
     "iopub.execute_input": "2022-03-02T10:27:15.401368Z",
     "iopub.status.busy": "2022-03-02T10:27:15.400472Z",
     "iopub.status.idle": "2022-03-02T10:27:15.714661Z",
     "shell.execute_reply": "2022-03-02T10:27:15.714226Z",
     "shell.execute_reply.started": "2022-03-02T09:40:49.331189Z"
    },
    "papermill": {
     "duration": 0.57052,
     "end_time": "2022-03-02T10:27:15.714786",
     "exception": false,
     "start_time": "2022-03-02T10:27:15.144266",
     "status": "completed"
    },
    "tags": []
   },
   "outputs": [
    {
     "name": "stdout",
     "output_type": "stream",
     "text": [
      "1.1.0\n"
     ]
    }
   ],
   "source": [
    "import torch\n",
    "print(torch.__version__)"
   ]
  },
  {
   "cell_type": "code",
   "execution_count": 4,
   "id": "beca63e1",
   "metadata": {
    "execution": {
     "iopub.execute_input": "2022-03-02T10:27:16.212906Z",
     "iopub.status.busy": "2022-03-02T10:27:16.212140Z",
     "iopub.status.idle": "2022-03-02T10:27:17.853585Z",
     "shell.execute_reply": "2022-03-02T10:27:17.855549Z",
     "shell.execute_reply.started": "2022-03-02T08:13:55.893622Z"
    },
    "papermill": {
     "duration": 1.897385,
     "end_time": "2022-03-02T10:27:17.855744",
     "exception": false,
     "start_time": "2022-03-02T10:27:15.958359",
     "status": "completed"
    },
    "tags": []
   },
   "outputs": [
    {
     "name": "stdout",
     "output_type": "stream",
     "text": [
      "ModuleNotFoundError: No module named 'numpy.core._multiarray_umath'\r\n",
      "Traceback (most recent call last):\r\n",
      "  File \"main.py\", line 3, in <module>\r\n",
      "    import utility\r\n",
      "  File \"/kaggle/working/utility.py\", line 5, in <module>\r\n",
      "    import matplotlib.pyplot as plt\r\n",
      "  File \"/opt/conda/lib/python3.7/site-packages/matplotlib/__init__.py\", line 109, in <module>\r\n",
      "    from . import _api, _version, cbook, docstring, rcsetup\r\n",
      "  File \"/opt/conda/lib/python3.7/site-packages/matplotlib/rcsetup.py\", line 27, in <module>\r\n",
      "    from matplotlib.colors import Colormap, is_color_like\r\n",
      "  File \"/opt/conda/lib/python3.7/site-packages/matplotlib/colors.py\", line 56, in <module>\r\n",
      "    from matplotlib import _api, cbook, scale\r\n",
      "  File \"/opt/conda/lib/python3.7/site-packages/matplotlib/scale.py\", line 23, in <module>\r\n",
      "    from matplotlib.ticker import (\r\n",
      "  File \"/opt/conda/lib/python3.7/site-packages/matplotlib/ticker.py\", line 136, in <module>\r\n",
      "    from matplotlib import transforms as mtransforms\r\n",
      "  File \"/opt/conda/lib/python3.7/site-packages/matplotlib/transforms.py\", line 46, in <module>\r\n",
      "    from matplotlib._path import (\r\n",
      "ImportError: numpy.core.multiarray failed to import\r\n"
     ]
    }
   ],
   "source": [
    "!python main.py --dir_data='./mydata' \\\n",
    "               --model='blindsr' \\\n",
    "               --scale='4' \\\n",
    "               --blur_type='aniso_gaussian' \\\n",
    "               --noise=25.0 \\\n",
    "               --lambda_min=0.2 \\\n",
    "               --lambda_max=4.0"
   ]
  }
 ],
 "metadata": {
  "kernelspec": {
   "display_name": "Python 3",
   "language": "python",
   "name": "python3"
  },
  "language_info": {
   "codemirror_mode": {
    "name": "ipython",
    "version": 3
   },
   "file_extension": ".py",
   "mimetype": "text/x-python",
   "name": "python",
   "nbconvert_exporter": "python",
   "pygments_lexer": "ipython3",
   "version": "3.7.12"
  },
  "papermill": {
   "default_parameters": {},
   "duration": 119.54141,
   "end_time": "2022-03-02T10:27:18.679436",
   "environment_variables": {},
   "exception": null,
   "input_path": "__notebook__.ipynb",
   "output_path": "__notebook__.ipynb",
   "parameters": {},
   "start_time": "2022-03-02T10:25:19.138026",
   "version": "2.3.3"
  }
 },
 "nbformat": 4,
 "nbformat_minor": 5
}
