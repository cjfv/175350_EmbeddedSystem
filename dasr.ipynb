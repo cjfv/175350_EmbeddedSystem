{
 "cells": [
  {
   "cell_type": "code",
   "execution_count": 1,
   "id": "cf77c9e1",
   "metadata": {
    "execution": {
     "iopub.execute_input": "2022-03-02T08:51:33.969574Z",
     "iopub.status.busy": "2022-03-02T08:51:33.968677Z",
     "iopub.status.idle": "2022-03-02T08:51:36.149028Z",
     "shell.execute_reply": "2022-03-02T08:51:36.149756Z",
     "shell.execute_reply.started": "2022-03-02T08:13:05.577874Z"
    },
    "papermill": {
     "duration": 2.198336,
     "end_time": "2022-03-02T08:51:36.150071",
     "exception": false,
     "start_time": "2022-03-02T08:51:33.951735",
     "status": "completed"
    },
    "tags": []
   },
   "outputs": [],
   "source": [
    "!cp -r ../input/my-dasr/DASR-main/*  ."
   ]
  },
  {
   "cell_type": "code",
   "execution_count": 2,
   "id": "d0aace16",
   "metadata": {
    "execution": {
     "iopub.execute_input": "2022-03-02T08:51:36.165337Z",
     "iopub.status.busy": "2022-03-02T08:51:36.164577Z",
     "iopub.status.idle": "2022-03-02T08:51:43.225940Z",
     "shell.execute_reply": "2022-03-02T08:51:43.225047Z",
     "shell.execute_reply.started": "2022-03-02T08:13:55.893622Z"
    },
    "papermill": {
     "duration": 7.071501,
     "end_time": "2022-03-02T08:51:43.226114",
     "exception": false,
     "start_time": "2022-03-02T08:51:36.154613",
     "status": "completed"
    },
    "tags": []
   },
   "outputs": [
    {
     "name": "stdout",
     "output_type": "stream",
     "text": [
      "Traceback (most recent call last):\r\n",
      "  File \"quick_test.py\", line 57, in <module>\r\n",
      "    main()\r\n",
      "  File \"quick_test.py\", line 45, in main\r\n",
      "    sr = DASR(lr[:, 0, ...])\r\n",
      "  File \"/opt/conda/lib/python3.7/site-packages/torch/nn/modules/module.py\", line 1051, in _call_impl\r\n",
      "    return forward_call(*input, **kwargs)\r\n",
      "  File \"/kaggle/working/model/blindsr.py\", line 245, in forward\r\n",
      "    fea = self.E(x, x)\r\n",
      "  File \"/opt/conda/lib/python3.7/site-packages/torch/nn/modules/module.py\", line 1051, in _call_impl\r\n",
      "    return forward_call(*input, **kwargs)\r\n",
      "  File \"/kaggle/working/moco/builder.py\", line 150, in forward\r\n",
      "    embedding, _ = self.encoder_q(im_q)\r\n",
      "  File \"/opt/conda/lib/python3.7/site-packages/torch/nn/modules/module.py\", line 1051, in _call_impl\r\n",
      "    return forward_call(*input, **kwargs)\r\n",
      "  File \"/kaggle/working/model/blindsr.py\", line 215, in forward\r\n",
      "    fea = self.E(x).squeeze(-1).squeeze(-1)\r\n",
      "  File \"/opt/conda/lib/python3.7/site-packages/torch/nn/modules/module.py\", line 1051, in _call_impl\r\n",
      "    return forward_call(*input, **kwargs)\r\n",
      "  File \"/opt/conda/lib/python3.7/site-packages/torch/nn/modules/container.py\", line 139, in forward\r\n",
      "    input = module(input)\r\n",
      "  File \"/opt/conda/lib/python3.7/site-packages/torch/nn/modules/module.py\", line 1051, in _call_impl\r\n",
      "    return forward_call(*input, **kwargs)\r\n",
      "  File \"/opt/conda/lib/python3.7/site-packages/torch/nn/modules/conv.py\", line 443, in forward\r\n",
      "    return self._conv_forward(input, self.weight, self.bias)\r\n",
      "  File \"/opt/conda/lib/python3.7/site-packages/torch/nn/modules/conv.py\", line 440, in _conv_forward\r\n",
      "    self.padding, self.dilation, self.groups)\r\n",
      "RuntimeError: Given groups=1, weight of size [64, 3, 3, 3], expected input[1, 4, 605, 1054] to have 3 channels, but got 4 channels instead\r\n"
     ]
    }
   ],
   "source": [
    "!python quick_test.py --img_dir='../input/dfasdfasdf/20220302164432.png' \\\n",
    "                     --scale='4' \\\n",
    "                     --resume=600 \\\n",
    "                     --blur_type='iso_gaussian'"
   ]
  }
 ],
 "metadata": {
  "kernelspec": {
   "display_name": "Python 3",
   "language": "python",
   "name": "python3"
  },
  "language_info": {
   "codemirror_mode": {
    "name": "ipython",
    "version": 3
   },
   "file_extension": ".py",
   "mimetype": "text/x-python",
   "name": "python",
   "nbconvert_exporter": "python",
   "pygments_lexer": "ipython3",
   "version": "3.7.12"
  },
  "papermill": {
   "default_parameters": {},
   "duration": 18.133362,
   "end_time": "2022-03-02T08:51:43.739229",
   "environment_variables": {},
   "exception": null,
   "input_path": "__notebook__.ipynb",
   "output_path": "__notebook__.ipynb",
   "parameters": {},
   "start_time": "2022-03-02T08:51:25.605867",
   "version": "2.3.3"
  }
 },
 "nbformat": 4,
 "nbformat_minor": 5
}
