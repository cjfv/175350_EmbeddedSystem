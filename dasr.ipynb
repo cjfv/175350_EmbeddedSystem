{
 "cells": [
  {
   "cell_type": "code",
   "execution_count": 1,
   "id": "4f60e48a",
   "metadata": {
    "execution": {
     "iopub.execute_input": "2022-03-03T09:47:35.143737Z",
     "iopub.status.busy": "2022-03-03T09:47:35.142179Z",
     "iopub.status.idle": "2022-03-03T09:47:42.168015Z",
     "shell.execute_reply": "2022-03-03T09:47:42.167452Z",
     "shell.execute_reply.started": "2022-03-03T09:46:57.930665Z"
    },
    "papermill": {
     "duration": 7.067039,
     "end_time": "2022-03-03T09:47:42.168179",
     "exception": false,
     "start_time": "2022-03-03T09:47:35.101140",
     "status": "completed"
    },
    "tags": []
   },
   "outputs": [
    {
     "name": "stdout",
     "output_type": "stream",
     "text": [
      "/kaggle/working\r\n",
      "total 112\r\n",
      "drwxr-xr-x 2 root root 4096 Mar  3 09:47 Figs\r\n",
      "-rw-r--r-- 1 root root 2988 Mar  3 09:47 README.md\r\n",
      "---------- 1 root root 4446 Mar  3 09:47 __notebook__.ipynb\r\n",
      "drwxr-xr-x 2 root root 4096 Mar  3 09:47 data\r\n",
      "-rw-r--r-- 1 root root 4988 Mar  3 09:47 dataloader.py\r\n",
      "drwxr-xr-x 6 root root 4096 Mar  3 09:47 experiment\r\n",
      "drwxr-xr-x 2 root root 4096 Mar  3 09:47 loss\r\n",
      "-rw-r--r-- 1 root root  539 Mar  3 09:47 main.py\r\n",
      "-rw-r--r-- 1 root root  639 Mar  3 09:47 main.sh\r\n",
      "drwxr-xr-x 2 root root 4096 Mar  3 09:47 moco\r\n",
      "drwxr-xr-x 2 root root 4096 Mar  3 09:47 model\r\n",
      "drwxr-xr-x 3 root root 4096 Mar  3 09:47 mydata\r\n",
      "-rw-r--r-- 1 root root 8299 Mar  3 09:47 option.py\r\n",
      "-rw-r--r-- 1 root root 2084 Mar  3 09:47 quick_test.py\r\n",
      "-rw-r--r-- 1 root root  655 Mar  3 09:47 quick_test.sh\r\n",
      "-rw-r--r-- 1 root root 1138 Mar  3 09:47 template.py\r\n",
      "-rw-r--r-- 1 root root  537 Mar  3 09:47 test.py\r\n",
      "-rw-r--r-- 1 root root  806 Mar  3 09:47 test.sh\r\n",
      "-rw-r--r-- 1 root root 8519 Mar  3 09:47 trainer.py\r\n",
      "-rw-r--r-- 1 root root 7892 Mar  3 09:47 utility.py\r\n",
      "drwxr-xr-x 2 root root 4096 Mar  3 09:47 utils\r\n"
     ]
    }
   ],
   "source": [
    "!cp -r ../input/dasr02/DASR-main/*  .\n",
    "!pwd\n",
    "!mkdir -p mydata/DF2K/HR/\n",
    "!cp -r ../input/test001/329C397A906B7D9F0E5015779AEC3A81.png mydata\n",
    "!ls -l ."
   ]
  },
  {
   "cell_type": "code",
   "execution_count": 2,
   "id": "fb3ed8d9",
   "metadata": {
    "execution": {
     "iopub.execute_input": "2022-03-03T09:47:42.187067Z",
     "iopub.status.busy": "2022-03-03T09:47:42.186322Z",
     "iopub.status.idle": "2022-03-03T09:47:42.859919Z",
     "shell.execute_reply": "2022-03-03T09:47:42.859456Z",
     "shell.execute_reply.started": "2022-03-03T09:47:06.891499Z"
    },
    "papermill": {
     "duration": 0.684576,
     "end_time": "2022-03-03T09:47:42.860057",
     "exception": false,
     "start_time": "2022-03-03T09:47:42.175481",
     "status": "completed"
    },
    "tags": []
   },
   "outputs": [
    {
     "name": "stdout",
     "output_type": "stream",
     "text": [
      "\u001b[01;34m./mydata\u001b[00m\r\n",
      "├── 329C397A906B7D9F0E5015779AEC3A81.png\r\n",
      "└── \u001b[01;34mDF2K\u001b[00m\r\n",
      "    └── \u001b[01;34mHR\u001b[00m\r\n",
      "\r\n",
      "2 directories, 1 file\r\n"
     ]
    }
   ],
   "source": [
    "!tree ./mydata"
   ]
  },
  {
   "cell_type": "code",
   "execution_count": 3,
   "id": "6c67801f",
   "metadata": {
    "execution": {
     "iopub.execute_input": "2022-03-03T09:47:42.879322Z",
     "iopub.status.busy": "2022-03-03T09:47:42.878554Z",
     "iopub.status.idle": "2022-03-03T09:48:43.617755Z",
     "shell.execute_reply": "2022-03-03T09:48:43.618191Z",
     "shell.execute_reply.started": "2022-03-02T09:39:22.755196Z"
    },
    "papermill": {
     "duration": 60.751323,
     "end_time": "2022-03-03T09:48:43.618385",
     "exception": false,
     "start_time": "2022-03-03T09:47:42.867062",
     "status": "completed"
    },
    "tags": []
   },
   "outputs": [
    {
     "name": "stdout",
     "output_type": "stream",
     "text": [
      "Collecting torch==1.1.0\r\n",
      "  Downloading torch-1.1.0-cp37-cp37m-manylinux1_x86_64.whl (676.9 MB)\r\n",
      "     |████████████████████████████████| 676.9 MB 3.0 kB/s             \r\n",
      "\u001b[?25hRequirement already satisfied: numpy in /opt/conda/lib/python3.7/site-packages (from torch==1.1.0) (1.20.3)\r\n",
      "Installing collected packages: torch\r\n",
      "  Attempting uninstall: torch\r\n",
      "    Found existing installation: torch 1.9.1\r\n",
      "    Uninstalling torch-1.9.1:\r\n",
      "      Successfully uninstalled torch-1.9.1\r\n",
      "\u001b[31mERROR: pip's dependency resolver does not currently take into account all the packages that are installed. This behaviour is the source of the following dependency conflicts.\r\n",
      "torchmetrics 0.6.2 requires torch>=1.3.1, but you have torch 1.1.0 which is incompatible.\r\n",
      "pytorch-lightning 1.5.9 requires torch>=1.7.*, but you have torch 1.1.0 which is incompatible.\r\n",
      "pytorch-ignite 0.4.8 requires torch<2,>=1.3, but you have torch 1.1.0 which is incompatible.\r\n",
      "kornia 0.5.8 requires torch>=1.6.0, but you have torch 1.1.0 which is incompatible.\r\n",
      "fastai 2.5.3 requires torch<1.11,>=1.7.0, but you have torch 1.1.0 which is incompatible.\r\n",
      "fairscale 0.4.5 requires torch>=1.8.0, but you have torch 1.1.0 which is incompatible.\r\n",
      "catalyst 21.12 requires torch>=1.3.0, but you have torch 1.1.0 which is incompatible.\r\n",
      "allennlp 2.9.0 requires torch<1.11.0,>=1.6.0, but you have torch 1.1.0 which is incompatible.\u001b[0m\r\n",
      "Successfully installed torch-1.1.0\r\n",
      "\u001b[33mWARNING: Running pip as the 'root' user can result in broken permissions and conflicting behaviour with the system package manager. It is recommended to use a virtual environment instead: https://pip.pypa.io/warnings/venv\u001b[0m\r\n"
     ]
    }
   ],
   "source": [
    "!pip install torch==1.1.0"
   ]
  },
  {
   "cell_type": "code",
   "execution_count": 4,
   "id": "e9394000",
   "metadata": {
    "execution": {
     "iopub.execute_input": "2022-03-03T09:48:44.137868Z",
     "iopub.status.busy": "2022-03-03T09:48:44.134688Z",
     "iopub.status.idle": "2022-03-03T09:48:44.470299Z",
     "shell.execute_reply": "2022-03-03T09:48:44.470708Z",
     "shell.execute_reply.started": "2022-03-02T09:40:49.331189Z"
    },
    "papermill": {
     "duration": 0.594701,
     "end_time": "2022-03-03T09:48:44.470865",
     "exception": false,
     "start_time": "2022-03-03T09:48:43.876164",
     "status": "completed"
    },
    "tags": []
   },
   "outputs": [
    {
     "name": "stdout",
     "output_type": "stream",
     "text": [
      "1.1.0\n"
     ]
    }
   ],
   "source": [
    "import torch\n",
    "print(torch.__version__)"
   ]
  },
  {
   "cell_type": "code",
   "execution_count": 5,
   "id": "8f281717",
   "metadata": {
    "execution": {
     "iopub.execute_input": "2022-03-03T09:48:44.978742Z",
     "iopub.status.busy": "2022-03-03T09:48:44.977986Z",
     "iopub.status.idle": "2022-03-03T09:48:47.603938Z",
     "shell.execute_reply": "2022-03-03T09:48:47.603173Z",
     "shell.execute_reply.started": "2022-03-02T08:13:55.893622Z"
    },
    "papermill": {
     "duration": 2.884709,
     "end_time": "2022-03-03T09:48:47.604082",
     "exception": false,
     "start_time": "2022-03-03T09:48:44.719373",
     "status": "completed"
    },
    "tags": []
   },
   "outputs": [
    {
     "name": "stdout",
     "output_type": "stream",
     "text": [
      "usage: quick_test.py [-h] [--img_dir IMG_DIR] [--scale SCALE]\r\n",
      "                     [--resume RESUME] [--blur_type BLUR_TYPE] [--cpu CPU]\r\n",
      "quick_test.py: error: unrecognized arguments: --model=blindsr \\\r\n"
     ]
    }
   ],
   "source": [
    "!python quick_test.py --img_dir='./mydata' \\\n",
    "               --model='blindsr' \\\n",
    "               --scale='4' \\\n",
    "               --blur_type='aniso_gaussian' \\\n",
    "               --resume=158 \\"
   ]
  }
 ],
 "metadata": {
  "kernelspec": {
   "display_name": "Python 3",
   "language": "python",
   "name": "python3"
  },
  "language_info": {
   "codemirror_mode": {
    "name": "ipython",
    "version": 3
   },
   "file_extension": ".py",
   "mimetype": "text/x-python",
   "name": "python",
   "nbconvert_exporter": "python",
   "pygments_lexer": "ipython3",
   "version": "3.7.12"
  },
  "papermill": {
   "default_parameters": {},
   "duration": 82.078148,
   "end_time": "2022-03-03T09:48:48.568330",
   "environment_variables": {},
   "exception": null,
   "input_path": "__notebook__.ipynb",
   "output_path": "__notebook__.ipynb",
   "parameters": {},
   "start_time": "2022-03-03T09:47:26.490182",
   "version": "2.3.3"
  }
 },
 "nbformat": 4,
 "nbformat_minor": 5
}
