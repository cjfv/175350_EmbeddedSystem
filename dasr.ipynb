{
 "cells": [
  {
   "cell_type": "code",
   "execution_count": 1,
   "id": "f7963b1e",
   "metadata": {
    "execution": {
     "iopub.execute_input": "2022-03-02T08:48:56.651577Z",
     "iopub.status.busy": "2022-03-02T08:48:56.650082Z",
     "iopub.status.idle": "2022-03-02T08:48:58.825774Z",
     "shell.execute_reply": "2022-03-02T08:48:58.824637Z",
     "shell.execute_reply.started": "2022-03-02T08:13:05.577874Z"
    },
    "papermill": {
     "duration": 2.185232,
     "end_time": "2022-03-02T08:48:58.825926",
     "exception": false,
     "start_time": "2022-03-02T08:48:56.640694",
     "status": "completed"
    },
    "tags": []
   },
   "outputs": [],
   "source": [
    "!cp -r ../input/my-dasr/DASR-main/*  ."
   ]
  },
  {
   "cell_type": "code",
   "execution_count": 2,
   "id": "44ee2d35",
   "metadata": {
    "execution": {
     "iopub.execute_input": "2022-03-02T08:48:58.839749Z",
     "iopub.status.busy": "2022-03-02T08:48:58.839014Z",
     "iopub.status.idle": "2022-03-02T08:49:01.085703Z",
     "shell.execute_reply": "2022-03-02T08:49:01.086377Z",
     "shell.execute_reply.started": "2022-03-02T08:13:08.38044Z"
    },
    "papermill": {
     "duration": 2.25617,
     "end_time": "2022-03-02T08:49:01.086578",
     "exception": false,
     "start_time": "2022-03-02T08:48:58.830408",
     "status": "completed"
    },
    "tags": []
   },
   "outputs": [
    {
     "name": "stdout",
     "output_type": "stream",
     "text": [
      "/kaggle/working\r\n",
      "Figs\t\t    dataloader.py  main.sh    quick_test.py  test.sh\r\n",
      "README.md\t    experiment\t   moco       quick_test.sh  trainer.py\r\n",
      "__notebook__.ipynb  loss\t   model      template.py    utility.py\r\n",
      "data\t\t    main.py\t   option.py  test.py\t     utils\r\n",
      "\u001b[01;34m.\u001b[00m\r\n",
      "├── \u001b[01;34mFigs\u001b[00m\r\n",
      "│   ├── fig.1.png\r\n",
      "│   ├── fig.2.png\r\n",
      "│   ├── fig.5.png\r\n",
      "│   ├── fig.6.png\r\n",
      "│   ├── fig.7.png\r\n",
      "│   ├── fig.III.png\r\n",
      "│   ├── fig.VII.png\r\n",
      "│   ├── tab2.png\r\n",
      "│   └── tab3.png\r\n",
      "├── README.md\r\n",
      "├── __notebook__.ipynb\r\n",
      "├── \u001b[01;34mdata\u001b[00m\r\n",
      "│   ├── __init__.py\r\n",
      "│   ├── __init__.pyc\r\n",
      "│   ├── benchmark.py\r\n",
      "│   ├── common.py\r\n",
      "│   ├── df2k.py\r\n",
      "│   └── multiscalesrdata.py\r\n",
      "├── dataloader.py\r\n",
      "├── \u001b[01;34mexperiment\u001b[00m\r\n",
      "│   ├── \u001b[01;34mblindsr_x2_bicubic_iso\u001b[00m\r\n",
      "│   │   └── \u001b[01;34mmodel\u001b[00m\r\n",
      "│   │       └── model_600.pt\r\n",
      "│   ├── \u001b[01;34mblindsr_x3_bicubic_iso\u001b[00m\r\n",
      "│   │   └── \u001b[01;34mmodel\u001b[00m\r\n",
      "│   │       └── model_600.pt\r\n",
      "│   ├── \u001b[01;34mblindsr_x4_bicubic_aniso\u001b[00m\r\n",
      "│   │   └── \u001b[01;34mmodel\u001b[00m\r\n",
      "│   │       └── model_600.pt\r\n",
      "│   └── \u001b[01;34mblindsr_x4_bicubic_iso\u001b[00m\r\n",
      "│       └── \u001b[01;34mmodel\u001b[00m\r\n",
      "│           └── model_600.pt\r\n",
      "├── \u001b[01;34mloss\u001b[00m\r\n",
      "│   ├── __init__.py\r\n",
      "│   ├── adversarial.py\r\n",
      "│   ├── discriminator.py\r\n",
      "│   └── vgg.py\r\n",
      "├── main.py\r\n",
      "├── main.sh\r\n",
      "├── \u001b[01;34mmoco\u001b[00m\r\n",
      "│   ├── __init__.py\r\n",
      "│   └── builder.py\r\n",
      "├── \u001b[01;34mmodel\u001b[00m\r\n",
      "│   ├── __init__.py\r\n",
      "│   ├── blindsr.py\r\n",
      "│   └── common.py\r\n",
      "├── option.py\r\n",
      "├── quick_test.py\r\n",
      "├── quick_test.sh\r\n",
      "├── template.py\r\n",
      "├── test.py\r\n",
      "├── test.sh\r\n",
      "├── trainer.py\r\n",
      "├── utility.py\r\n",
      "└── \u001b[01;34mutils\u001b[00m\r\n",
      "    ├── __init__.py\r\n",
      "    └── util.py\r\n",
      "\r\n",
      "15 directories, 43 files\r\n"
     ]
    }
   ],
   "source": [
    "!pwd\n",
    "!ls .\n",
    "!tree ."
   ]
  },
  {
   "cell_type": "code",
   "execution_count": 3,
   "id": "e03629da",
   "metadata": {
    "execution": {
     "iopub.execute_input": "2022-03-02T08:49:01.105931Z",
     "iopub.status.busy": "2022-03-02T08:49:01.105223Z",
     "iopub.status.idle": "2022-03-02T08:49:08.376634Z",
     "shell.execute_reply": "2022-03-02T08:49:08.376107Z",
     "shell.execute_reply.started": "2022-03-02T08:13:55.893622Z"
    },
    "papermill": {
     "duration": 7.283024,
     "end_time": "2022-03-02T08:49:08.376770",
     "exception": false,
     "start_time": "2022-03-02T08:49:01.093746",
     "status": "completed"
    },
    "tags": []
   },
   "outputs": [
    {
     "name": "stdout",
     "output_type": "stream",
     "text": [
      "Traceback (most recent call last):\r\n",
      "  File \"quick_test.py\", line 57, in <module>\r\n",
      "    main()\r\n",
      "  File \"quick_test.py\", line 45, in main\r\n",
      "    sr = DASR(lr[:, 0, ...])\r\n",
      "  File \"/opt/conda/lib/python3.7/site-packages/torch/nn/modules/module.py\", line 1051, in _call_impl\r\n",
      "    return forward_call(*input, **kwargs)\r\n",
      "  File \"/kaggle/working/model/blindsr.py\", line 245, in forward\r\n",
      "    fea = self.E(x, x)\r\n",
      "  File \"/opt/conda/lib/python3.7/site-packages/torch/nn/modules/module.py\", line 1051, in _call_impl\r\n",
      "    return forward_call(*input, **kwargs)\r\n",
      "  File \"/kaggle/working/moco/builder.py\", line 150, in forward\r\n",
      "    embedding, _ = self.encoder_q(im_q)\r\n",
      "  File \"/opt/conda/lib/python3.7/site-packages/torch/nn/modules/module.py\", line 1051, in _call_impl\r\n",
      "    return forward_call(*input, **kwargs)\r\n",
      "  File \"/kaggle/working/model/blindsr.py\", line 215, in forward\r\n",
      "    fea = self.E(x).squeeze(-1).squeeze(-1)\r\n",
      "  File \"/opt/conda/lib/python3.7/site-packages/torch/nn/modules/module.py\", line 1051, in _call_impl\r\n",
      "    return forward_call(*input, **kwargs)\r\n",
      "  File \"/opt/conda/lib/python3.7/site-packages/torch/nn/modules/container.py\", line 139, in forward\r\n",
      "    input = module(input)\r\n",
      "  File \"/opt/conda/lib/python3.7/site-packages/torch/nn/modules/module.py\", line 1051, in _call_impl\r\n",
      "    return forward_call(*input, **kwargs)\r\n",
      "  File \"/opt/conda/lib/python3.7/site-packages/torch/nn/modules/conv.py\", line 443, in forward\r\n",
      "    return self._conv_forward(input, self.weight, self.bias)\r\n",
      "  File \"/opt/conda/lib/python3.7/site-packages/torch/nn/modules/conv.py\", line 440, in _conv_forward\r\n",
      "    self.padding, self.dilation, self.groups)\r\n",
      "RuntimeError: Given groups=1, weight of size [64, 3, 3, 3], expected input[1, 4, 605, 1054] to have 3 channels, but got 4 channels instead\r\n"
     ]
    }
   ],
   "source": [
    "!python quick_test.py --img_dir='../input/dfasdfasdf/20220302164432.png' \\\n",
    "                     --scale='4' \\\n",
    "                     --resume=600 \\\n",
    "                     --blur_type='iso_gaussian'"
   ]
  }
 ],
 "metadata": {
  "kernelspec": {
   "display_name": "Python 3",
   "language": "python",
   "name": "python3"
  },
  "language_info": {
   "codemirror_mode": {
    "name": "ipython",
    "version": 3
   },
   "file_extension": ".py",
   "mimetype": "text/x-python",
   "name": "python",
   "nbconvert_exporter": "python",
   "pygments_lexer": "ipython3",
   "version": "3.7.12"
  },
  "papermill": {
   "default_parameters": {},
   "duration": 20.115191,
   "end_time": "2022-03-02T08:49:08.890132",
   "environment_variables": {},
   "exception": null,
   "input_path": "__notebook__.ipynb",
   "output_path": "__notebook__.ipynb",
   "parameters": {},
   "start_time": "2022-03-02T08:48:48.774941",
   "version": "2.3.3"
  }
 },
 "nbformat": 4,
 "nbformat_minor": 5
}
