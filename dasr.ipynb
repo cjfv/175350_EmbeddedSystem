{
 "cells": [
  {
   "cell_type": "code",
   "execution_count": 1,
   "id": "f1788718",
   "metadata": {
    "execution": {
     "iopub.execute_input": "2022-03-02T08:14:41.797959Z",
     "iopub.status.busy": "2022-03-02T08:14:41.797028Z",
     "iopub.status.idle": "2022-03-02T08:14:44.694333Z",
     "shell.execute_reply": "2022-03-02T08:14:44.693761Z",
     "shell.execute_reply.started": "2022-03-02T08:13:05.577874Z"
    },
    "papermill": {
     "duration": 2.913227,
     "end_time": "2022-03-02T08:14:44.694508",
     "exception": false,
     "start_time": "2022-03-02T08:14:41.781281",
     "status": "completed"
    },
    "tags": []
   },
   "outputs": [],
   "source": [
    "!cp -r ../input/my-dasr/DASR-main/*  ."
   ]
  },
  {
   "cell_type": "code",
   "execution_count": 2,
   "id": "2297df35",
   "metadata": {
    "execution": {
     "iopub.execute_input": "2022-03-02T08:14:44.708171Z",
     "iopub.status.busy": "2022-03-02T08:14:44.707663Z",
     "iopub.status.idle": "2022-03-02T08:14:46.675740Z",
     "shell.execute_reply": "2022-03-02T08:14:46.675196Z",
     "shell.execute_reply.started": "2022-03-02T08:13:08.380440Z"
    },
    "papermill": {
     "duration": 1.977085,
     "end_time": "2022-03-02T08:14:46.675888",
     "exception": false,
     "start_time": "2022-03-02T08:14:44.698803",
     "status": "completed"
    },
    "tags": []
   },
   "outputs": [
    {
     "name": "stdout",
     "output_type": "stream",
     "text": [
      "/kaggle/working\r\n",
      "Figs\t\t    dataloader.py  main.sh    quick_test.py  test.sh\r\n",
      "README.md\t    experiment\t   moco       quick_test.sh  trainer.py\r\n",
      "__notebook__.ipynb  loss\t   model      template.py    utility.py\r\n",
      "data\t\t    main.py\t   option.py  test.py\t     utils\r\n",
      "\u001b[01;34m.\u001b[00m\r\n",
      "├── \u001b[01;34mFigs\u001b[00m\r\n",
      "│   ├── fig.1.png\r\n",
      "│   ├── fig.2.png\r\n",
      "│   ├── fig.5.png\r\n",
      "│   ├── fig.6.png\r\n",
      "│   ├── fig.7.png\r\n",
      "│   ├── fig.III.png\r\n",
      "│   ├── fig.VII.png\r\n",
      "│   ├── tab2.png\r\n",
      "│   └── tab3.png\r\n",
      "├── README.md\r\n",
      "├── __notebook__.ipynb\r\n",
      "├── \u001b[01;34mdata\u001b[00m\r\n",
      "│   ├── __init__.py\r\n",
      "│   ├── __init__.pyc\r\n",
      "│   ├── benchmark.py\r\n",
      "│   ├── common.py\r\n",
      "│   ├── df2k.py\r\n",
      "│   └── multiscalesrdata.py\r\n",
      "├── dataloader.py\r\n",
      "├── \u001b[01;34mexperiment\u001b[00m\r\n",
      "│   ├── \u001b[01;34mblindsr_x2_bicubic_iso\u001b[00m\r\n",
      "│   │   └── \u001b[01;34mmodel\u001b[00m\r\n",
      "│   │       └── model_600.pt\r\n",
      "│   ├── \u001b[01;34mblindsr_x3_bicubic_iso\u001b[00m\r\n",
      "│   │   └── \u001b[01;34mmodel\u001b[00m\r\n",
      "│   │       └── model_600.pt\r\n",
      "│   ├── \u001b[01;34mblindsr_x4_bicubic_aniso\u001b[00m\r\n",
      "│   │   └── \u001b[01;34mmodel\u001b[00m\r\n",
      "│   │       └── model_600.pt\r\n",
      "│   └── \u001b[01;34mblindsr_x4_bicubic_iso\u001b[00m\r\n",
      "│       └── \u001b[01;34mmodel\u001b[00m\r\n",
      "│           └── model_600.pt\r\n",
      "├── \u001b[01;34mloss\u001b[00m\r\n",
      "│   ├── __init__.py\r\n",
      "│   ├── adversarial.py\r\n",
      "│   ├── discriminator.py\r\n",
      "│   └── vgg.py\r\n",
      "├── main.py\r\n",
      "├── main.sh\r\n",
      "├── \u001b[01;34mmoco\u001b[00m\r\n",
      "│   ├── __init__.py\r\n",
      "│   └── builder.py\r\n",
      "├── \u001b[01;34mmodel\u001b[00m\r\n",
      "│   ├── __init__.py\r\n",
      "│   ├── blindsr.py\r\n",
      "│   └── common.py\r\n",
      "├── option.py\r\n",
      "├── quick_test.py\r\n",
      "├── quick_test.sh\r\n",
      "├── template.py\r\n",
      "├── test.py\r\n",
      "├── test.sh\r\n",
      "├── trainer.py\r\n",
      "├── utility.py\r\n",
      "└── \u001b[01;34mutils\u001b[00m\r\n",
      "    ├── __init__.py\r\n",
      "    └── util.py\r\n",
      "\r\n",
      "15 directories, 43 files\r\n"
     ]
    }
   ],
   "source": [
    "!pwd\n",
    "!ls .\n",
    "!tree ."
   ]
  },
  {
   "cell_type": "code",
   "execution_count": 3,
   "id": "cc1d43a0",
   "metadata": {
    "execution": {
     "iopub.execute_input": "2022-03-02T08:14:46.692958Z",
     "iopub.status.busy": "2022-03-02T08:14:46.692206Z",
     "iopub.status.idle": "2022-03-02T08:15:01.105025Z",
     "shell.execute_reply": "2022-03-02T08:15:01.104058Z",
     "shell.execute_reply.started": "2022-03-02T08:13:55.893622Z"
    },
    "papermill": {
     "duration": 14.424028,
     "end_time": "2022-03-02T08:15:01.105174",
     "exception": false,
     "start_time": "2022-03-02T08:14:46.681146",
     "status": "completed"
    },
    "tags": []
   },
   "outputs": [],
   "source": [
    "!python quick_test.py --img_dir='../input/mytttt/F2742E98AD605BB716378678607205D3.jpg' \\\n",
    "                     --scale='4' \\\n",
    "                     --resume=600 \\\n",
    "                     --blur_type='iso_gaussian'"
   ]
  }
 ],
 "metadata": {
  "kernelspec": {
   "display_name": "Python 3",
   "language": "python",
   "name": "python3"
  },
  "language_info": {
   "codemirror_mode": {
    "name": "ipython",
    "version": 3
   },
   "file_extension": ".py",
   "mimetype": "text/x-python",
   "name": "python",
   "nbconvert_exporter": "python",
   "pygments_lexer": "ipython3",
   "version": "3.7.12"
  },
  "papermill": {
   "default_parameters": {},
   "duration": 27.465967,
   "end_time": "2022-03-02T08:15:01.518830",
   "environment_variables": {},
   "exception": null,
   "input_path": "__notebook__.ipynb",
   "output_path": "__notebook__.ipynb",
   "parameters": {},
   "start_time": "2022-03-02T08:14:34.052863",
   "version": "2.3.3"
  }
 },
 "nbformat": 4,
 "nbformat_minor": 5
}
