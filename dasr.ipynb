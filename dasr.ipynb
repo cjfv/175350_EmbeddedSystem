{
 "cells": [
  {
   "cell_type": "code",
   "execution_count": 1,
   "id": "2e96bcd0",
   "metadata": {
    "execution": {
     "iopub.execute_input": "2022-03-03T10:30:07.937835Z",
     "iopub.status.busy": "2022-03-03T10:30:07.937005Z",
     "iopub.status.idle": "2022-03-03T10:30:13.418838Z",
     "shell.execute_reply": "2022-03-03T10:30:13.418124Z",
     "shell.execute_reply.started": "2022-03-03T10:28:38.912235Z"
    },
    "papermill": {
     "duration": 5.51818,
     "end_time": "2022-03-03T10:30:13.418999",
     "exception": false,
     "start_time": "2022-03-03T10:30:07.900819",
     "status": "completed"
    },
    "tags": []
   },
   "outputs": [
    {
     "name": "stdout",
     "output_type": "stream",
     "text": [
      "/kaggle/working\r\n",
      "total 112\r\n",
      "drwxr-xr-x 2 root root 4096 Mar  3 10:30 Figs\r\n",
      "-rw-r--r-- 1 root root 2988 Mar  3 10:30 README.md\r\n",
      "---------- 1 root root 5076 Mar  3 10:30 __notebook__.ipynb\r\n",
      "drwxr-xr-x 2 root root 4096 Mar  3 10:30 data\r\n",
      "-rw-r--r-- 1 root root 4988 Mar  3 10:30 dataloader.py\r\n",
      "drwxr-xr-x 6 root root 4096 Mar  3 10:30 experiment\r\n",
      "drwxr-xr-x 2 root root 4096 Mar  3 10:30 loss\r\n",
      "-rw-r--r-- 1 root root  539 Mar  3 10:30 main.py\r\n",
      "-rw-r--r-- 1 root root  639 Mar  3 10:30 main.sh\r\n",
      "drwxr-xr-x 2 root root 4096 Mar  3 10:30 moco\r\n",
      "drwxr-xr-x 2 root root 4096 Mar  3 10:30 model\r\n",
      "drwxr-xr-x 3 root root 4096 Mar  3 10:30 mydata\r\n",
      "-rw-r--r-- 1 root root 8299 Mar  3 10:30 option.py\r\n",
      "-rw-r--r-- 1 root root 2084 Mar  3 10:30 quick_test.py\r\n",
      "-rw-r--r-- 1 root root  655 Mar  3 10:30 quick_test.sh\r\n",
      "-rw-r--r-- 1 root root 1138 Mar  3 10:30 template.py\r\n",
      "-rw-r--r-- 1 root root  537 Mar  3 10:30 test.py\r\n",
      "-rw-r--r-- 1 root root  806 Mar  3 10:30 test.sh\r\n",
      "-rw-r--r-- 1 root root 8519 Mar  3 10:30 trainer.py\r\n",
      "-rw-r--r-- 1 root root 7892 Mar  3 10:30 utility.py\r\n",
      "drwxr-xr-x 2 root root 4096 Mar  3 10:30 utils\r\n"
     ]
    }
   ],
   "source": [
    "!cp -r ../input/dasr02/DASR-main/*  .\n",
    "!pwd\n",
    "!mkdir -p mydata/DF2K/HR/\n",
    "!cp -r ../input/test001/329C397A906B7D9F0E5015779AEC3A81.png mydata\n",
    "!ls -l ."
   ]
  },
  {
   "cell_type": "code",
   "execution_count": 2,
   "id": "ef7274f1",
   "metadata": {
    "execution": {
     "iopub.execute_input": "2022-03-03T10:30:13.436939Z",
     "iopub.status.busy": "2022-03-03T10:30:13.436113Z",
     "iopub.status.idle": "2022-03-03T10:30:14.102906Z",
     "shell.execute_reply": "2022-03-03T10:30:14.102340Z",
     "shell.execute_reply.started": "2022-03-03T10:26:29.559649Z"
    },
    "papermill": {
     "duration": 0.675941,
     "end_time": "2022-03-03T10:30:14.103041",
     "exception": false,
     "start_time": "2022-03-03T10:30:13.427100",
     "status": "completed"
    },
    "tags": []
   },
   "outputs": [
    {
     "name": "stdout",
     "output_type": "stream",
     "text": [
      "\u001b[01;34m./mydata\u001b[00m\r\n",
      "├── 329C397A906B7D9F0E5015779AEC3A81.png\r\n",
      "└── \u001b[01;34mDF2K\u001b[00m\r\n",
      "    └── \u001b[01;34mHR\u001b[00m\r\n",
      "\r\n",
      "2 directories, 1 file\r\n"
     ]
    }
   ],
   "source": [
    "!tree ./mydata"
   ]
  },
  {
   "cell_type": "code",
   "execution_count": 3,
   "id": "74ad4ac7",
   "metadata": {
    "execution": {
     "iopub.execute_input": "2022-03-03T10:30:14.120604Z",
     "iopub.status.busy": "2022-03-03T10:30:14.119809Z",
     "iopub.status.idle": "2022-03-03T10:31:13.012486Z",
     "shell.execute_reply": "2022-03-03T10:31:13.011961Z",
     "shell.execute_reply.started": "2022-03-03T10:24:12.367065Z"
    },
    "papermill": {
     "duration": 58.902308,
     "end_time": "2022-03-03T10:31:13.012632",
     "exception": false,
     "start_time": "2022-03-03T10:30:14.110324",
     "status": "completed"
    },
    "tags": []
   },
   "outputs": [
    {
     "name": "stdout",
     "output_type": "stream",
     "text": [
      "Collecting torch==1.1.0\r\n",
      "  Downloading torch-1.1.0-cp37-cp37m-manylinux1_x86_64.whl (676.9 MB)\r\n",
      "     |████████████████████████████████| 676.9 MB 1.9 kB/s             \r\n",
      "\u001b[?25hRequirement already satisfied: numpy in /opt/conda/lib/python3.7/site-packages (from torch==1.1.0) (1.20.3)\r\n",
      "Installing collected packages: torch\r\n",
      "  Attempting uninstall: torch\r\n",
      "    Found existing installation: torch 1.9.1\r\n",
      "    Uninstalling torch-1.9.1:\r\n",
      "      Successfully uninstalled torch-1.9.1\r\n",
      "\u001b[31mERROR: pip's dependency resolver does not currently take into account all the packages that are installed. This behaviour is the source of the following dependency conflicts.\r\n",
      "torchmetrics 0.6.2 requires torch>=1.3.1, but you have torch 1.1.0 which is incompatible.\r\n",
      "pytorch-lightning 1.5.9 requires torch>=1.7.*, but you have torch 1.1.0 which is incompatible.\r\n",
      "pytorch-ignite 0.4.8 requires torch<2,>=1.3, but you have torch 1.1.0 which is incompatible.\r\n",
      "kornia 0.5.8 requires torch>=1.6.0, but you have torch 1.1.0 which is incompatible.\r\n",
      "fastai 2.5.3 requires torch<1.11,>=1.7.0, but you have torch 1.1.0 which is incompatible.\r\n",
      "fairscale 0.4.5 requires torch>=1.8.0, but you have torch 1.1.0 which is incompatible.\r\n",
      "catalyst 21.12 requires torch>=1.3.0, but you have torch 1.1.0 which is incompatible.\r\n",
      "allennlp 2.9.0 requires torch<1.11.0,>=1.6.0, but you have torch 1.1.0 which is incompatible.\u001b[0m\r\n",
      "Successfully installed torch-1.1.0\r\n",
      "\u001b[33mWARNING: Running pip as the 'root' user can result in broken permissions and conflicting behaviour with the system package manager. It is recommended to use a virtual environment instead: https://pip.pypa.io/warnings/venv\u001b[0m\r\n"
     ]
    }
   ],
   "source": [
    "!pip install torch==1.1.0"
   ]
  },
  {
   "cell_type": "code",
   "execution_count": 4,
   "id": "d6dff015",
   "metadata": {
    "execution": {
     "iopub.execute_input": "2022-03-03T10:31:13.512336Z",
     "iopub.status.busy": "2022-03-03T10:31:13.511519Z",
     "iopub.status.idle": "2022-03-03T10:31:13.878792Z",
     "shell.execute_reply": "2022-03-03T10:31:13.878074Z",
     "shell.execute_reply.started": "2022-03-03T10:26:33.954937Z"
    },
    "papermill": {
     "duration": 0.615452,
     "end_time": "2022-03-03T10:31:13.878977",
     "exception": false,
     "start_time": "2022-03-03T10:31:13.263525",
     "status": "completed"
    },
    "tags": []
   },
   "outputs": [
    {
     "name": "stdout",
     "output_type": "stream",
     "text": [
      "1.1.0\n"
     ]
    }
   ],
   "source": [
    "import torch\n",
    "print(torch.__version__)"
   ]
  },
  {
   "cell_type": "code",
   "execution_count": 5,
   "id": "f927202b",
   "metadata": {
    "execution": {
     "iopub.execute_input": "2022-03-03T10:31:14.714175Z",
     "iopub.status.busy": "2022-03-03T10:31:14.713327Z",
     "iopub.status.idle": "2022-03-03T10:31:22.339296Z",
     "shell.execute_reply": "2022-03-03T10:31:22.338473Z",
     "shell.execute_reply.started": "2022-03-03T10:29:08.861823Z"
    },
    "papermill": {
     "duration": 8.052905,
     "end_time": "2022-03-03T10:31:22.339441",
     "exception": false,
     "start_time": "2022-03-03T10:31:14.286536",
     "status": "completed"
    },
    "tags": []
   },
   "outputs": [],
   "source": [
    "!python quick_test.py --img_dir='./mydata/329C397A906B7D9F0E5015779AEC3A81.png' \\\n",
    "               --scale='4' \\\n",
    "               --blur_type='aniso_gaussian' \\\n",
    "               --resume=158"
   ]
  },
  {
   "cell_type": "code",
   "execution_count": 6,
   "id": "a20dc4ab",
   "metadata": {
    "execution": {
     "iopub.execute_input": "2022-03-03T10:31:22.826860Z",
     "iopub.status.busy": "2022-03-03T10:31:22.826059Z",
     "iopub.status.idle": "2022-03-03T10:31:23.476745Z",
     "shell.execute_reply": "2022-03-03T10:31:23.476092Z",
     "shell.execute_reply.started": "2022-03-03T10:29:21.355322Z"
    },
    "papermill": {
     "duration": 0.897458,
     "end_time": "2022-03-03T10:31:23.476893",
     "exception": false,
     "start_time": "2022-03-03T10:31:22.579435",
     "status": "completed"
    },
    "tags": []
   },
   "outputs": [
    {
     "name": "stdout",
     "output_type": "stream",
     "text": [
      "\u001b[01;34m.\u001b[00m\r\n",
      "├── \u001b[01;34mFigs\u001b[00m\r\n",
      "│   ├── fig.1.png\r\n",
      "│   ├── fig.2.png\r\n",
      "│   ├── fig.5.png\r\n",
      "│   ├── fig.6.png\r\n",
      "│   ├── fig.7.png\r\n",
      "│   ├── fig.III.png\r\n",
      "│   ├── fig.VII.png\r\n",
      "│   ├── tab2.png\r\n",
      "│   └── tab3.png\r\n",
      "├── README.md\r\n",
      "├── __notebook__.ipynb\r\n",
      "├── \u001b[01;34m__pycache__\u001b[00m\r\n",
      "│   └── utility.cpython-37.pyc\r\n",
      "├── \u001b[01;34mdata\u001b[00m\r\n",
      "│   ├── __init__.py\r\n",
      "│   ├── __init__.pyc\r\n",
      "│   ├── benchmark.py\r\n",
      "│   ├── common.py\r\n",
      "│   ├── df2k.py\r\n",
      "│   └── multiscalesrdata.py\r\n",
      "├── dataloader.py\r\n",
      "├── \u001b[01;34mexperiment\u001b[00m\r\n",
      "│   ├── \u001b[01;34mblindsr_x2_bicubic_iso\u001b[00m\r\n",
      "│   │   ├── config.txt\r\n",
      "│   │   ├── log.txt\r\n",
      "│   │   ├── loss.pt\r\n",
      "│   │   ├── loss_L1.pdf\r\n",
      "│   │   ├── loss_log.pt\r\n",
      "│   │   ├── \u001b[01;34mmodel\u001b[00m\r\n",
      "│   │   │   ├── model_1.pt\r\n",
      "│   │   │   ├── model_2.pt\r\n",
      "│   │   │   ├── model_3.pt\r\n",
      "│   │   │   ├── model_600.pt\r\n",
      "│   │   │   └── model_latest.pt\r\n",
      "│   │   ├── optimizer.pt\r\n",
      "│   │   ├── psnr_log.pt\r\n",
      "│   │   └── test_Set14.pdf\r\n",
      "│   ├── \u001b[01;34mblindsr_x3_bicubic_iso\u001b[00m\r\n",
      "│   │   └── \u001b[01;34mmodel\u001b[00m\r\n",
      "│   │       └── model_600.pt\r\n",
      "│   ├── \u001b[01;34mblindsr_x4_bicubic_aniso\u001b[00m\r\n",
      "│   │   ├── config.txt\r\n",
      "│   │   ├── log.txt\r\n",
      "│   │   ├── \u001b[01;34mmodel\u001b[00m\r\n",
      "│   │   │   ├── model_158.pt\r\n",
      "│   │   │   └── model_600.pt\r\n",
      "│   │   └── \u001b[01;34mresults\u001b[00m\r\n",
      "│   │       └── 329C397A906B7D9F0E5015779AEC3A81_sr.png\r\n",
      "│   └── \u001b[01;34mblindsr_x4_bicubic_iso\u001b[00m\r\n",
      "│       ├── config.txt\r\n",
      "│       ├── log.txt\r\n",
      "│       └── \u001b[01;34mmodel\u001b[00m\r\n",
      "│           └── model_600.pt\r\n",
      "├── \u001b[01;34mloss\u001b[00m\r\n",
      "│   ├── __init__.py\r\n",
      "│   ├── adversarial.py\r\n",
      "│   ├── discriminator.py\r\n",
      "│   └── vgg.py\r\n",
      "├── main.py\r\n",
      "├── main.sh\r\n",
      "├── \u001b[01;34mmoco\u001b[00m\r\n",
      "│   ├── __init__.py\r\n",
      "│   ├── \u001b[01;34m__pycache__\u001b[00m\r\n",
      "│   │   ├── __init__.cpython-37.pyc\r\n",
      "│   │   └── builder.cpython-37.pyc\r\n",
      "│   └── builder.py\r\n",
      "├── \u001b[01;34mmodel\u001b[00m\r\n",
      "│   ├── __init__.py\r\n",
      "│   ├── \u001b[01;34m__pycache__\u001b[00m\r\n",
      "│   │   ├── __init__.cpython-37.pyc\r\n",
      "│   │   ├── blindsr.cpython-37.pyc\r\n",
      "│   │   └── common.cpython-37.pyc\r\n",
      "│   ├── blindsr.py\r\n",
      "│   └── common.py\r\n",
      "├── \u001b[01;34mmydata\u001b[00m\r\n",
      "│   ├── 329C397A906B7D9F0E5015779AEC3A81.png\r\n",
      "│   └── \u001b[01;34mDF2K\u001b[00m\r\n",
      "│       └── \u001b[01;34mHR\u001b[00m\r\n",
      "├── option.py\r\n",
      "├── quick_test.py\r\n",
      "├── quick_test.sh\r\n",
      "├── template.py\r\n",
      "├── test.py\r\n",
      "├── test.sh\r\n",
      "├── trainer.py\r\n",
      "├── utility.py\r\n",
      "└── \u001b[01;34mutils\u001b[00m\r\n",
      "    ├── __init__.py\r\n",
      "    └── util.py\r\n",
      "\r\n",
      "22 directories, 68 files\r\n"
     ]
    }
   ],
   "source": [
    "!tree"
   ]
  }
 ],
 "metadata": {
  "kernelspec": {
   "display_name": "Python 3",
   "language": "python",
   "name": "python3"
  },
  "language_info": {
   "codemirror_mode": {
    "name": "ipython",
    "version": 3
   },
   "file_extension": ".py",
   "mimetype": "text/x-python",
   "name": "python",
   "nbconvert_exporter": "python",
   "pygments_lexer": "ipython3",
   "version": "3.7.12"
  },
  "papermill": {
   "default_parameters": {},
   "duration": 84.536259,
   "end_time": "2022-03-03T10:31:24.229067",
   "environment_variables": {},
   "exception": null,
   "input_path": "__notebook__.ipynb",
   "output_path": "__notebook__.ipynb",
   "parameters": {},
   "start_time": "2022-03-03T10:29:59.692808",
   "version": "2.3.3"
  }
 },
 "nbformat": 4,
 "nbformat_minor": 5
}
