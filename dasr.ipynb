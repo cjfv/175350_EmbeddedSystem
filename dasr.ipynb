{
 "cells": [
  {
   "cell_type": "code",
   "execution_count": 1,
   "id": "71b2f4ab",
   "metadata": {
    "execution": {
     "iopub.execute_input": "2022-03-02T09:21:00.635127Z",
     "iopub.status.busy": "2022-03-02T09:21:00.633449Z",
     "iopub.status.idle": "2022-03-02T09:21:02.983642Z",
     "shell.execute_reply": "2022-03-02T09:21:02.982989Z",
     "shell.execute_reply.started": "2022-03-02T08:13:05.577874Z"
    },
    "papermill": {
     "duration": 2.363692,
     "end_time": "2022-03-02T09:21:02.983808",
     "exception": false,
     "start_time": "2022-03-02T09:21:00.620116",
     "status": "completed"
    },
    "tags": []
   },
   "outputs": [],
   "source": [
    "!cp -r ../input/dasr01/DASR-main/*  ."
   ]
  },
  {
   "cell_type": "code",
   "execution_count": 2,
   "id": "c3bd5f16",
   "metadata": {
    "execution": {
     "iopub.execute_input": "2022-03-02T09:21:02.995818Z",
     "iopub.status.busy": "2022-03-02T09:21:02.994892Z",
     "iopub.status.idle": "2022-03-02T09:21:06.899905Z",
     "shell.execute_reply": "2022-03-02T09:21:06.898972Z",
     "shell.execute_reply.started": "2022-03-02T08:13:55.893622Z"
    },
    "papermill": {
     "duration": 3.91151,
     "end_time": "2022-03-02T09:21:06.900083",
     "exception": false,
     "start_time": "2022-03-02T09:21:02.988573",
     "status": "completed"
    },
    "tags": []
   },
   "outputs": [
    {
     "name": "stdout",
     "output_type": "stream",
     "text": [
      "Traceback (most recent call last):\r\n",
      "  File \"main.py\", line 4, in <module>\r\n",
      "    import data\r\n",
      "  File \"/kaggle/working/data/__init__.py\", line 2, in <module>\r\n",
      "    from dataloader import MSDataLoader\r\n",
      "  File \"/kaggle/working/dataloader.py\", line 12, in <module>\r\n",
      "    from torch.utils.data.dataloader import _DataLoaderIter   # _DataLoaderIter新版本不存在了\r\n",
      "ImportError: cannot import name '_DataLoaderIter' from 'torch.utils.data.dataloader' (/opt/conda/lib/python3.7/site-packages/torch/utils/data/dataloader.py)\r\n"
     ]
    }
   ],
   "source": [
    "!python main.py --dir_data='../input/image-project/ground truth train' \\\n",
    "               --model='blindsr' \\\n",
    "               --scale='4' \\\n",
    "               --blur_type='aniso_gaussian' \\\n",
    "               --noise=25.0 \\\n",
    "               --lambda_min=0.2 \\\n",
    "               --lambda_max=4.0"
   ]
  }
 ],
 "metadata": {
  "kernelspec": {
   "display_name": "Python 3",
   "language": "python",
   "name": "python3"
  },
  "language_info": {
   "codemirror_mode": {
    "name": "ipython",
    "version": 3
   },
   "file_extension": ".py",
   "mimetype": "text/x-python",
   "name": "python",
   "nbconvert_exporter": "python",
   "pygments_lexer": "ipython3",
   "version": "3.7.12"
  },
  "papermill": {
   "default_parameters": {},
   "duration": 14.822492,
   "end_time": "2022-03-02T09:21:07.412569",
   "environment_variables": {},
   "exception": null,
   "input_path": "__notebook__.ipynb",
   "output_path": "__notebook__.ipynb",
   "parameters": {},
   "start_time": "2022-03-02T09:20:52.590077",
   "version": "2.3.3"
  }
 },
 "nbformat": 4,
 "nbformat_minor": 5
}
