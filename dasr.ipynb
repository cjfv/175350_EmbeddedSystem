{
 "cells": [
  {
   "cell_type": "code",
   "execution_count": 1,
   "id": "0e1c2119",
   "metadata": {
    "execution": {
     "iopub.execute_input": "2022-03-02T09:09:02.553125Z",
     "iopub.status.busy": "2022-03-02T09:09:02.551368Z",
     "iopub.status.idle": "2022-03-02T09:09:04.792795Z",
     "shell.execute_reply": "2022-03-02T09:09:04.791530Z",
     "shell.execute_reply.started": "2022-03-02T08:13:05.577874Z"
    },
    "papermill": {
     "duration": 2.251506,
     "end_time": "2022-03-02T09:09:04.792962",
     "exception": false,
     "start_time": "2022-03-02T09:09:02.541456",
     "status": "completed"
    },
    "tags": []
   },
   "outputs": [],
   "source": [
    "!cp -r ../input/dasr01/DASR-main/*  ."
   ]
  },
  {
   "cell_type": "code",
   "execution_count": 2,
   "id": "64d61cce",
   "metadata": {
    "execution": {
     "iopub.execute_input": "2022-03-02T09:09:04.805235Z",
     "iopub.status.busy": "2022-03-02T09:09:04.804488Z",
     "iopub.status.idle": "2022-03-02T09:09:19.220628Z",
     "shell.execute_reply": "2022-03-02T09:09:19.219903Z",
     "shell.execute_reply.started": "2022-03-02T08:13:55.893622Z"
    },
    "papermill": {
     "duration": 14.424057,
     "end_time": "2022-03-02T09:09:19.220766",
     "exception": false,
     "start_time": "2022-03-02T09:09:04.796709",
     "status": "completed"
    },
    "tags": []
   },
   "outputs": [],
   "source": [
    "!python quick_test.py --img_dir='../input/mytttt/F2742E98AD605BB716378678607205D3.jpg' \\\n",
    "                     --scale='4' \\\n",
    "                     --resume=600 \\\n",
    "                     --blur_type='aniso_gaussian'"
   ]
  }
 ],
 "metadata": {
  "kernelspec": {
   "display_name": "Python 3",
   "language": "python",
   "name": "python3"
  },
  "language_info": {
   "codemirror_mode": {
    "name": "ipython",
    "version": 3
   },
   "file_extension": ".py",
   "mimetype": "text/x-python",
   "name": "python",
   "nbconvert_exporter": "python",
   "pygments_lexer": "ipython3",
   "version": "3.7.12"
  },
  "papermill": {
   "default_parameters": {},
   "duration": 24.618173,
   "end_time": "2022-03-02T09:09:19.631952",
   "environment_variables": {},
   "exception": null,
   "input_path": "__notebook__.ipynb",
   "output_path": "__notebook__.ipynb",
   "parameters": {},
   "start_time": "2022-03-02T09:08:55.013779",
   "version": "2.3.3"
  }
 },
 "nbformat": 4,
 "nbformat_minor": 5
}
