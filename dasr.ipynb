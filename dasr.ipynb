{
 "cells": [
  {
   "cell_type": "code",
   "execution_count": 1,
   "id": "ad5a7fd5",
   "metadata": {
    "execution": {
     "iopub.execute_input": "2022-03-02T09:19:32.006741Z",
     "iopub.status.busy": "2022-03-02T09:19:31.998218Z",
     "iopub.status.idle": "2022-03-02T09:19:34.241641Z",
     "shell.execute_reply": "2022-03-02T09:19:34.240931Z",
     "shell.execute_reply.started": "2022-03-02T08:13:05.577874Z"
    },
    "papermill": {
     "duration": 2.256707,
     "end_time": "2022-03-02T09:19:34.241784",
     "exception": false,
     "start_time": "2022-03-02T09:19:31.985077",
     "status": "completed"
    },
    "tags": []
   },
   "outputs": [],
   "source": [
    "!cp -r ../input/dasr01/DASR-main/*  ."
   ]
  },
  {
   "cell_type": "code",
   "execution_count": 2,
   "id": "2d97628c",
   "metadata": {
    "execution": {
     "iopub.execute_input": "2022-03-02T09:19:34.256394Z",
     "iopub.status.busy": "2022-03-02T09:19:34.255669Z",
     "iopub.status.idle": "2022-03-02T09:19:34.996512Z",
     "shell.execute_reply": "2022-03-02T09:19:34.995945Z",
     "shell.execute_reply.started": "2022-03-02T08:13:55.893622Z"
    },
    "papermill": {
     "duration": 0.750241,
     "end_time": "2022-03-02T09:19:34.996672",
     "exception": false,
     "start_time": "2022-03-02T09:19:34.246431",
     "status": "completed"
    },
    "tags": []
   },
   "outputs": [
    {
     "name": "stdout",
     "output_type": "stream",
     "text": [
      "python: can't open file 'python': [Errno 2] No such file or directory\r\n"
     ]
    }
   ],
   "source": [
    "!python python main.py --dir_data='../input/image-project/ground truth train' \\\n",
    "               --model='blindsr' \\\n",
    "               --scale='4' \\\n",
    "               --blur_type='aniso_gaussian' \\\n",
    "               --noise=25.0 \\\n",
    "               --lambda_min=0.2 \\\n",
    "               --lambda_max=4.0"
   ]
  }
 ],
 "metadata": {
  "kernelspec": {
   "display_name": "Python 3",
   "language": "python",
   "name": "python3"
  },
  "language_info": {
   "codemirror_mode": {
    "name": "ipython",
    "version": 3
   },
   "file_extension": ".py",
   "mimetype": "text/x-python",
   "name": "python",
   "nbconvert_exporter": "python",
   "pygments_lexer": "ipython3",
   "version": "3.7.12"
  },
  "papermill": {
   "default_parameters": {},
   "duration": 11.769142,
   "end_time": "2022-03-02T09:19:35.409377",
   "environment_variables": {},
   "exception": null,
   "input_path": "__notebook__.ipynb",
   "output_path": "__notebook__.ipynb",
   "parameters": {},
   "start_time": "2022-03-02T09:19:23.640235",
   "version": "2.3.3"
  }
 },
 "nbformat": 4,
 "nbformat_minor": 5
}
